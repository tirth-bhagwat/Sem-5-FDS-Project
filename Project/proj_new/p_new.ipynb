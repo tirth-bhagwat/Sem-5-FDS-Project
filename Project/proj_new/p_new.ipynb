{
 "cells": [
  {
   "cell_type": "code",
   "execution_count": 2,
   "metadata": {},
   "outputs": [],
   "source": [
    "import sqlite3\n",
    "import pandas as pd\n",
    "import seaborn as sns\n",
    "from matplotlib import pyplot as plt\n"
   ]
  },
  {
   "cell_type": "code",
   "execution_count": 3,
   "metadata": {},
   "outputs": [],
   "source": [
    "conn = sqlite3.connect(\"/home/tirth/Downloads/places.sqlite\")\n",
    "\n",
    "full_data = pd.read_sql_query(\n",
    "    \"\"\"\n",
    "SELECT \n",
    "\tmoz_places.url as url,\n",
    "    moz_historyvisits.'visit_date' as 'visit_date'\n",
    "from moz_historyvisits\n",
    "    join moz_places on moz_places.id = moz_historyvisits.place_id;\n",
    "    \n",
    "\"\"\",\n",
    "    conn,\n",
    ")\n",
    "\n",
    "# region 1\n",
    "\n",
    "# full_data = pd.read_sql_query(\n",
    "#     \"\"\"\n",
    "# SELECT\n",
    "# \tmoz_places.url as pl_url,\n",
    "#     moz_places.visit_count as pl_visit_count,\n",
    "#     moz_places.frecency as pl_url_frecency,\n",
    "#     moz_places.last_visit_date as pl_last_visit_date,\n",
    "#     moz_historyvisits.'from_visit' as 'his_from_visit',\n",
    "#     moz_historyvisits.'visit_date' as 'his_visit_date',\n",
    "#     moz_historyvisits.'visit_type' as 'his_visit_type'\n",
    "# from moz_historyvisits\n",
    "#     join moz_places on moz_places.id = moz_historyvisits.place_id;\n",
    "\n",
    "# \"\"\",\n",
    "#     conn,\n",
    "# )\n",
    "\n",
    "# endregion\n",
    "\n",
    "# full_data[full_data[\"visit_count\"] == 0] = 1\n"
   ]
  },
  {
   "cell_type": "code",
   "execution_count": 4,
   "metadata": {},
   "outputs": [
    {
     "data": {
      "text/html": [
       "<div>\n",
       "<style scoped>\n",
       "    .dataframe tbody tr th:only-of-type {\n",
       "        vertical-align: middle;\n",
       "    }\n",
       "\n",
       "    .dataframe tbody tr th {\n",
       "        vertical-align: top;\n",
       "    }\n",
       "\n",
       "    .dataframe thead th {\n",
       "        text-align: right;\n",
       "    }\n",
       "</style>\n",
       "<table border=\"1\" class=\"dataframe\">\n",
       "  <thead>\n",
       "    <tr style=\"text-align: right;\">\n",
       "      <th></th>\n",
       "      <th>url</th>\n",
       "      <th>visit_date</th>\n",
       "    </tr>\n",
       "  </thead>\n",
       "  <tbody>\n",
       "    <tr>\n",
       "      <th>0</th>\n",
       "      <td>https://spins.fedoraproject.org/</td>\n",
       "      <td>1652190849558000</td>\n",
       "    </tr>\n",
       "    <tr>\n",
       "      <th>1</th>\n",
       "      <td>https://spins.fedoraproject.org/</td>\n",
       "      <td>1654098416035000</td>\n",
       "    </tr>\n",
       "    <tr>\n",
       "      <th>2</th>\n",
       "      <td>https://spins.fedoraproject.org/</td>\n",
       "      <td>1656856015277000</td>\n",
       "    </tr>\n",
       "    <tr>\n",
       "      <th>3</th>\n",
       "      <td>https://spins.fedoraproject.org/</td>\n",
       "      <td>1666263920924000</td>\n",
       "    </tr>\n",
       "    <tr>\n",
       "      <th>4</th>\n",
       "      <td>https://spins.fedoraproject.org/</td>\n",
       "      <td>1668600233996000</td>\n",
       "    </tr>\n",
       "  </tbody>\n",
       "</table>\n",
       "</div>"
      ],
      "text/plain": [
       "                                url        visit_date\n",
       "0  https://spins.fedoraproject.org/  1652190849558000\n",
       "1  https://spins.fedoraproject.org/  1654098416035000\n",
       "2  https://spins.fedoraproject.org/  1656856015277000\n",
       "3  https://spins.fedoraproject.org/  1666263920924000\n",
       "4  https://spins.fedoraproject.org/  1668600233996000"
      ]
     },
     "execution_count": 4,
     "metadata": {},
     "output_type": "execute_result"
    }
   ],
   "source": [
    "full_data.head()\n"
   ]
  },
  {
   "cell_type": "code",
   "execution_count": 5,
   "metadata": {},
   "outputs": [
    {
     "data": {
      "text/plain": [
       "2229"
      ]
     },
     "execution_count": 5,
     "metadata": {},
     "output_type": "execute_result"
    }
   ],
   "source": [
    "import csv\n",
    "import re\n",
    "\n",
    "full_data[\"host\"] = full_data[\"url\"].map(\n",
    "    lambda x: re.match(r\"https?:\\/\\/(([^/]+\\.)+[^/]+)\", x).group(1)\n",
    "    if re.match(r\"https?:\\/\\/(([^/]+\\.)+[^/]+)\", x) is not None\n",
    "    else pd.NA\n",
    ")\n",
    "\n",
    "\n",
    "full_data.to_csv(\"full_data.csv\", index=False, quoting=csv.QUOTE_ALL)\n",
    "full_data[\"host\"].isna().sum()\n"
   ]
  },
  {
   "cell_type": "code",
   "execution_count": 6,
   "metadata": {},
   "outputs": [],
   "source": [
    "from datetime import datetime\n",
    "\n",
    "full_data[\"visit_date_obj\"] = full_data[\"visit_date\"].map(\n",
    "    lambda x: datetime.fromtimestamp(x / 1000000)\n",
    ")\n"
   ]
  },
  {
   "cell_type": "code",
   "execution_count": 51,
   "metadata": {},
   "outputs": [
    {
     "ename": "KeyError",
     "evalue": "\"['url'] not found in axis\"",
     "output_type": "error",
     "traceback": [
      "\u001b[0;31m---------------------------------------------------------------------------\u001b[0m",
      "\u001b[0;31mKeyError\u001b[0m                                  Traceback (most recent call last)",
      "\u001b[1;32m/home/tirth/College/Sem-5/FDS/FDS-Prac/Project/p_new/p_new.ipynb Cell 6\u001b[0m line \u001b[0;36m1\n\u001b[0;32m----> <a href='vscode-notebook-cell:/home/tirth/College/Sem-5/FDS/FDS-Prac/Project/p_new/p_new.ipynb#W5sZmlsZQ%3D%3D?line=0'>1</a>\u001b[0m full_data\u001b[39m.\u001b[39;49mdrop(\u001b[39m\"\u001b[39;49m\u001b[39murl\u001b[39;49m\u001b[39m\"\u001b[39;49m, axis\u001b[39m=\u001b[39;49m\u001b[39m1\u001b[39;49m, inplace\u001b[39m=\u001b[39;49m\u001b[39mTrue\u001b[39;49;00m)\n\u001b[1;32m      <a href='vscode-notebook-cell:/home/tirth/College/Sem-5/FDS/FDS-Prac/Project/p_new/p_new.ipynb#W5sZmlsZQ%3D%3D?line=1'>2</a>\u001b[0m full_data[\u001b[39m\"\u001b[39m\u001b[39mvisit_count\u001b[39m\u001b[39m\"\u001b[39m] \u001b[39m=\u001b[39m \u001b[39m1\u001b[39m\n\u001b[1;32m      <a href='vscode-notebook-cell:/home/tirth/College/Sem-5/FDS/FDS-Prac/Project/p_new/p_new.ipynb#W5sZmlsZQ%3D%3D?line=3'>4</a>\u001b[0m full_data\u001b[39m.\u001b[39mdropna(axis\u001b[39m=\u001b[39m\u001b[39m0\u001b[39m, how\u001b[39m=\u001b[39m\u001b[39m\"\u001b[39m\u001b[39many\u001b[39m\u001b[39m\"\u001b[39m, inplace\u001b[39m=\u001b[39m\u001b[39mTrue\u001b[39;00m)\n",
      "File \u001b[0;32m~/College/Sem-5/FDS/FDS-Prac/venv/lib64/python3.11/site-packages/pandas/core/frame.py:5258\u001b[0m, in \u001b[0;36mDataFrame.drop\u001b[0;34m(self, labels, axis, index, columns, level, inplace, errors)\u001b[0m\n\u001b[1;32m   5110\u001b[0m \u001b[39mdef\u001b[39;00m \u001b[39mdrop\u001b[39m(\n\u001b[1;32m   5111\u001b[0m     \u001b[39mself\u001b[39m,\n\u001b[1;32m   5112\u001b[0m     labels: IndexLabel \u001b[39m=\u001b[39m \u001b[39mNone\u001b[39;00m,\n\u001b[0;32m   (...)\u001b[0m\n\u001b[1;32m   5119\u001b[0m     errors: IgnoreRaise \u001b[39m=\u001b[39m \u001b[39m\"\u001b[39m\u001b[39mraise\u001b[39m\u001b[39m\"\u001b[39m,\n\u001b[1;32m   5120\u001b[0m ) \u001b[39m-\u001b[39m\u001b[39m>\u001b[39m DataFrame \u001b[39m|\u001b[39m \u001b[39mNone\u001b[39;00m:\n\u001b[1;32m   5121\u001b[0m \u001b[39m    \u001b[39m\u001b[39m\"\"\"\u001b[39;00m\n\u001b[1;32m   5122\u001b[0m \u001b[39m    Drop specified labels from rows or columns.\u001b[39;00m\n\u001b[1;32m   5123\u001b[0m \n\u001b[0;32m   (...)\u001b[0m\n\u001b[1;32m   5256\u001b[0m \u001b[39m            weight  1.0     0.8\u001b[39;00m\n\u001b[1;32m   5257\u001b[0m \u001b[39m    \"\"\"\u001b[39;00m\n\u001b[0;32m-> 5258\u001b[0m     \u001b[39mreturn\u001b[39;00m \u001b[39msuper\u001b[39;49m()\u001b[39m.\u001b[39;49mdrop(\n\u001b[1;32m   5259\u001b[0m         labels\u001b[39m=\u001b[39;49mlabels,\n\u001b[1;32m   5260\u001b[0m         axis\u001b[39m=\u001b[39;49maxis,\n\u001b[1;32m   5261\u001b[0m         index\u001b[39m=\u001b[39;49mindex,\n\u001b[1;32m   5262\u001b[0m         columns\u001b[39m=\u001b[39;49mcolumns,\n\u001b[1;32m   5263\u001b[0m         level\u001b[39m=\u001b[39;49mlevel,\n\u001b[1;32m   5264\u001b[0m         inplace\u001b[39m=\u001b[39;49minplace,\n\u001b[1;32m   5265\u001b[0m         errors\u001b[39m=\u001b[39;49merrors,\n\u001b[1;32m   5266\u001b[0m     )\n",
      "File \u001b[0;32m~/College/Sem-5/FDS/FDS-Prac/venv/lib64/python3.11/site-packages/pandas/core/generic.py:4549\u001b[0m, in \u001b[0;36mNDFrame.drop\u001b[0;34m(self, labels, axis, index, columns, level, inplace, errors)\u001b[0m\n\u001b[1;32m   4547\u001b[0m \u001b[39mfor\u001b[39;00m axis, labels \u001b[39min\u001b[39;00m axes\u001b[39m.\u001b[39mitems():\n\u001b[1;32m   4548\u001b[0m     \u001b[39mif\u001b[39;00m labels \u001b[39mis\u001b[39;00m \u001b[39mnot\u001b[39;00m \u001b[39mNone\u001b[39;00m:\n\u001b[0;32m-> 4549\u001b[0m         obj \u001b[39m=\u001b[39m obj\u001b[39m.\u001b[39;49m_drop_axis(labels, axis, level\u001b[39m=\u001b[39;49mlevel, errors\u001b[39m=\u001b[39;49merrors)\n\u001b[1;32m   4551\u001b[0m \u001b[39mif\u001b[39;00m inplace:\n\u001b[1;32m   4552\u001b[0m     \u001b[39mself\u001b[39m\u001b[39m.\u001b[39m_update_inplace(obj)\n",
      "File \u001b[0;32m~/College/Sem-5/FDS/FDS-Prac/venv/lib64/python3.11/site-packages/pandas/core/generic.py:4591\u001b[0m, in \u001b[0;36mNDFrame._drop_axis\u001b[0;34m(self, labels, axis, level, errors, only_slice)\u001b[0m\n\u001b[1;32m   4589\u001b[0m         new_axis \u001b[39m=\u001b[39m axis\u001b[39m.\u001b[39mdrop(labels, level\u001b[39m=\u001b[39mlevel, errors\u001b[39m=\u001b[39merrors)\n\u001b[1;32m   4590\u001b[0m     \u001b[39melse\u001b[39;00m:\n\u001b[0;32m-> 4591\u001b[0m         new_axis \u001b[39m=\u001b[39m axis\u001b[39m.\u001b[39;49mdrop(labels, errors\u001b[39m=\u001b[39;49merrors)\n\u001b[1;32m   4592\u001b[0m     indexer \u001b[39m=\u001b[39m axis\u001b[39m.\u001b[39mget_indexer(new_axis)\n\u001b[1;32m   4594\u001b[0m \u001b[39m# Case for non-unique axis\u001b[39;00m\n\u001b[1;32m   4595\u001b[0m \u001b[39melse\u001b[39;00m:\n",
      "File \u001b[0;32m~/College/Sem-5/FDS/FDS-Prac/venv/lib64/python3.11/site-packages/pandas/core/indexes/base.py:6699\u001b[0m, in \u001b[0;36mIndex.drop\u001b[0;34m(self, labels, errors)\u001b[0m\n\u001b[1;32m   6697\u001b[0m \u001b[39mif\u001b[39;00m mask\u001b[39m.\u001b[39many():\n\u001b[1;32m   6698\u001b[0m     \u001b[39mif\u001b[39;00m errors \u001b[39m!=\u001b[39m \u001b[39m\"\u001b[39m\u001b[39mignore\u001b[39m\u001b[39m\"\u001b[39m:\n\u001b[0;32m-> 6699\u001b[0m         \u001b[39mraise\u001b[39;00m \u001b[39mKeyError\u001b[39;00m(\u001b[39mf\u001b[39m\u001b[39m\"\u001b[39m\u001b[39m{\u001b[39;00m\u001b[39mlist\u001b[39m(labels[mask])\u001b[39m}\u001b[39;00m\u001b[39m not found in axis\u001b[39m\u001b[39m\"\u001b[39m)\n\u001b[1;32m   6700\u001b[0m     indexer \u001b[39m=\u001b[39m indexer[\u001b[39m~\u001b[39mmask]\n\u001b[1;32m   6701\u001b[0m \u001b[39mreturn\u001b[39;00m \u001b[39mself\u001b[39m\u001b[39m.\u001b[39mdelete(indexer)\n",
      "\u001b[0;31mKeyError\u001b[0m: \"['url'] not found in axis\""
     ]
    }
   ],
   "source": [
    "full_data.drop(\"url\", axis=1, inplace=True)\n",
    "full_data[\"visit_count\"] = 1\n",
    "\n",
    "full_data.dropna(axis=0, how=\"any\", inplace=True)\n",
    "full_data.reset_index(inplace=True, drop=True)\n",
    "\n",
    "full_data.info()\n"
   ]
  },
  {
   "cell_type": "code",
   "execution_count": 8,
   "metadata": {},
   "outputs": [
    {
     "data": {
      "text/html": [
       "<div>\n",
       "<style scoped>\n",
       "    .dataframe tbody tr th:only-of-type {\n",
       "        vertical-align: middle;\n",
       "    }\n",
       "\n",
       "    .dataframe tbody tr th {\n",
       "        vertical-align: top;\n",
       "    }\n",
       "\n",
       "    .dataframe thead th {\n",
       "        text-align: right;\n",
       "    }\n",
       "</style>\n",
       "<table border=\"1\" class=\"dataframe\">\n",
       "  <thead>\n",
       "    <tr style=\"text-align: right;\">\n",
       "      <th></th>\n",
       "      <th>visit_date</th>\n",
       "      <th>host</th>\n",
       "      <th>visit_date_obj</th>\n",
       "      <th>visit_count</th>\n",
       "    </tr>\n",
       "  </thead>\n",
       "  <tbody>\n",
       "    <tr>\n",
       "      <th>0</th>\n",
       "      <td>1652190849558000</td>\n",
       "      <td>spins.fedoraproject.org</td>\n",
       "      <td>2022-05-10 19:24:09.558</td>\n",
       "      <td>1</td>\n",
       "    </tr>\n",
       "    <tr>\n",
       "      <th>1</th>\n",
       "      <td>1654098416035000</td>\n",
       "      <td>spins.fedoraproject.org</td>\n",
       "      <td>2022-06-01 21:16:56.035</td>\n",
       "      <td>1</td>\n",
       "    </tr>\n",
       "    <tr>\n",
       "      <th>2</th>\n",
       "      <td>1656856015277000</td>\n",
       "      <td>spins.fedoraproject.org</td>\n",
       "      <td>2022-07-03 19:16:55.277</td>\n",
       "      <td>1</td>\n",
       "    </tr>\n",
       "    <tr>\n",
       "      <th>3</th>\n",
       "      <td>1666263920924000</td>\n",
       "      <td>spins.fedoraproject.org</td>\n",
       "      <td>2022-10-20 16:35:20.924</td>\n",
       "      <td>1</td>\n",
       "    </tr>\n",
       "    <tr>\n",
       "      <th>4</th>\n",
       "      <td>1668600233996000</td>\n",
       "      <td>spins.fedoraproject.org</td>\n",
       "      <td>2022-11-16 17:33:53.996</td>\n",
       "      <td>1</td>\n",
       "    </tr>\n",
       "  </tbody>\n",
       "</table>\n",
       "</div>"
      ],
      "text/plain": [
       "         visit_date                     host          visit_date_obj  \\\n",
       "0  1652190849558000  spins.fedoraproject.org 2022-05-10 19:24:09.558   \n",
       "1  1654098416035000  spins.fedoraproject.org 2022-06-01 21:16:56.035   \n",
       "2  1656856015277000  spins.fedoraproject.org 2022-07-03 19:16:55.277   \n",
       "3  1666263920924000  spins.fedoraproject.org 2022-10-20 16:35:20.924   \n",
       "4  1668600233996000  spins.fedoraproject.org 2022-11-16 17:33:53.996   \n",
       "\n",
       "   visit_count  \n",
       "0            1  \n",
       "1            1  \n",
       "2            1  \n",
       "3            1  \n",
       "4            1  "
      ]
     },
     "execution_count": 8,
     "metadata": {},
     "output_type": "execute_result"
    }
   ],
   "source": [
    "full_data.head()\n"
   ]
  },
  {
   "cell_type": "code",
   "execution_count": 9,
   "metadata": {},
   "outputs": [
    {
     "data": {
      "text/html": [
       "<div>\n",
       "<style scoped>\n",
       "    .dataframe tbody tr th:only-of-type {\n",
       "        vertical-align: middle;\n",
       "    }\n",
       "\n",
       "    .dataframe tbody tr th {\n",
       "        vertical-align: top;\n",
       "    }\n",
       "\n",
       "    .dataframe thead th {\n",
       "        text-align: right;\n",
       "    }\n",
       "</style>\n",
       "<table border=\"1\" class=\"dataframe\">\n",
       "  <thead>\n",
       "    <tr style=\"text-align: right;\">\n",
       "      <th></th>\n",
       "      <th>visit_date</th>\n",
       "      <th>host</th>\n",
       "      <th>visit_date_obj</th>\n",
       "      <th>visit_count</th>\n",
       "      <th>visit_TOD</th>\n",
       "    </tr>\n",
       "  </thead>\n",
       "  <tbody>\n",
       "    <tr>\n",
       "      <th>0</th>\n",
       "      <td>1652190849558000</td>\n",
       "      <td>spins.fedoraproject.org</td>\n",
       "      <td>2022-05-10 19:24:09.558</td>\n",
       "      <td>1</td>\n",
       "      <td>Evening</td>\n",
       "    </tr>\n",
       "    <tr>\n",
       "      <th>1</th>\n",
       "      <td>1654098416035000</td>\n",
       "      <td>spins.fedoraproject.org</td>\n",
       "      <td>2022-06-01 21:16:56.035</td>\n",
       "      <td>1</td>\n",
       "      <td>Evening</td>\n",
       "    </tr>\n",
       "    <tr>\n",
       "      <th>2</th>\n",
       "      <td>1656856015277000</td>\n",
       "      <td>spins.fedoraproject.org</td>\n",
       "      <td>2022-07-03 19:16:55.277</td>\n",
       "      <td>1</td>\n",
       "      <td>Evening</td>\n",
       "    </tr>\n",
       "    <tr>\n",
       "      <th>3</th>\n",
       "      <td>1666263920924000</td>\n",
       "      <td>spins.fedoraproject.org</td>\n",
       "      <td>2022-10-20 16:35:20.924</td>\n",
       "      <td>1</td>\n",
       "      <td>Afternoon</td>\n",
       "    </tr>\n",
       "    <tr>\n",
       "      <th>4</th>\n",
       "      <td>1668600233996000</td>\n",
       "      <td>spins.fedoraproject.org</td>\n",
       "      <td>2022-11-16 17:33:53.996</td>\n",
       "      <td>1</td>\n",
       "      <td>Evening</td>\n",
       "    </tr>\n",
       "  </tbody>\n",
       "</table>\n",
       "</div>"
      ],
      "text/plain": [
       "         visit_date                     host          visit_date_obj  \\\n",
       "0  1652190849558000  spins.fedoraproject.org 2022-05-10 19:24:09.558   \n",
       "1  1654098416035000  spins.fedoraproject.org 2022-06-01 21:16:56.035   \n",
       "2  1656856015277000  spins.fedoraproject.org 2022-07-03 19:16:55.277   \n",
       "3  1666263920924000  spins.fedoraproject.org 2022-10-20 16:35:20.924   \n",
       "4  1668600233996000  spins.fedoraproject.org 2022-11-16 17:33:53.996   \n",
       "\n",
       "   visit_count  visit_TOD  \n",
       "0            1    Evening  \n",
       "1            1    Evening  \n",
       "2            1    Evening  \n",
       "3            1  Afternoon  \n",
       "4            1    Evening  "
      ]
     },
     "execution_count": 9,
     "metadata": {},
     "output_type": "execute_result"
    }
   ],
   "source": [
    "def get_TOD(hour):\n",
    "    if hour >= 5 and hour < 11:\n",
    "        return \"morning\"\n",
    "    elif hour >= 11 and hour < 17:\n",
    "        return \"afternoon\"\n",
    "    elif hour >= 17 and hour < 23:\n",
    "        return \"evening\"\n",
    "    else:\n",
    "        return \"night\"\n",
    "\n",
    "\n",
    "full_data[\"visit_TOD\"] = full_data[\"visit_date_obj\"].map(\n",
    "    lambda x: get_TOD(x.hour).capitalize()\n",
    ")\n",
    "\n",
    "full_data.head()\n"
   ]
  },
  {
   "cell_type": "code",
   "execution_count": 10,
   "metadata": {},
   "outputs": [
    {
     "name": "stdout",
     "output_type": "stream",
     "text": [
      "<class 'pandas.core.frame.DataFrame'>\n",
      "RangeIndex: 66210 entries, 0 to 66209\n",
      "Data columns (total 5 columns):\n",
      " #   Column          Non-Null Count  Dtype         \n",
      "---  ------          --------------  -----         \n",
      " 0   visit_date      66210 non-null  int64         \n",
      " 1   host            66210 non-null  object        \n",
      " 2   visit_date_obj  66210 non-null  datetime64[ns]\n",
      " 3   visit_count     66210 non-null  int64         \n",
      " 4   visit_TOD       66210 non-null  object        \n",
      "dtypes: datetime64[ns](1), int64(2), object(2)\n",
      "memory usage: 2.5+ MB\n"
     ]
    }
   ],
   "source": [
    "full_data.info()\n"
   ]
  },
  {
   "cell_type": "code",
   "execution_count": 11,
   "metadata": {},
   "outputs": [
    {
     "data": {
      "text/html": [
       "<div>\n",
       "<style scoped>\n",
       "    .dataframe tbody tr th:only-of-type {\n",
       "        vertical-align: middle;\n",
       "    }\n",
       "\n",
       "    .dataframe tbody tr th {\n",
       "        vertical-align: top;\n",
       "    }\n",
       "\n",
       "    .dataframe thead th {\n",
       "        text-align: right;\n",
       "    }\n",
       "</style>\n",
       "<table border=\"1\" class=\"dataframe\">\n",
       "  <thead>\n",
       "    <tr style=\"text-align: right;\">\n",
       "      <th></th>\n",
       "      <th>host</th>\n",
       "      <th>visit_TOD</th>\n",
       "      <th>visit_count</th>\n",
       "      <th>visit_date_obj</th>\n",
       "      <th>visit_date</th>\n",
       "    </tr>\n",
       "  </thead>\n",
       "  <tbody>\n",
       "    <tr>\n",
       "      <th>0</th>\n",
       "      <td>0.0.7.231</td>\n",
       "      <td>Morning</td>\n",
       "      <td>1</td>\n",
       "      <td>[2023-06-21 10:28:31.729402]</td>\n",
       "      <td>[1687323511729402]</td>\n",
       "    </tr>\n",
       "    <tr>\n",
       "      <th>1</th>\n",
       "      <td>10.0.0.1:4100</td>\n",
       "      <td>Afternoon</td>\n",
       "      <td>1715</td>\n",
       "      <td>[2023-02-13 12:18:57.584000, 2023-03-13 12:12:...</td>\n",
       "      <td>[1676270937584000, 1678689757058000, 167869137...</td>\n",
       "    </tr>\n",
       "    <tr>\n",
       "      <th>2</th>\n",
       "      <td>10.0.0.1:4100</td>\n",
       "      <td>Evening</td>\n",
       "      <td>1</td>\n",
       "      <td>[2023-09-29 18:25:00.609477]</td>\n",
       "      <td>[1695992100609477]</td>\n",
       "    </tr>\n",
       "    <tr>\n",
       "      <th>3</th>\n",
       "      <td>10.0.0.1:4100</td>\n",
       "      <td>Morning</td>\n",
       "      <td>236</td>\n",
       "      <td>[2023-03-23 09:47:42.522000, 2023-03-23 10:19:...</td>\n",
       "      <td>[1679545062522000, 1679546963118000, 167954710...</td>\n",
       "    </tr>\n",
       "    <tr>\n",
       "      <th>4</th>\n",
       "      <td>10.9.153.35</td>\n",
       "      <td>Evening</td>\n",
       "      <td>37</td>\n",
       "      <td>[2023-05-14 17:49:28.090000, 2023-05-14 17:50:...</td>\n",
       "      <td>[1684066768090000, 1684066856510000, 168406680...</td>\n",
       "    </tr>\n",
       "  </tbody>\n",
       "</table>\n",
       "</div>"
      ],
      "text/plain": [
       "            host  visit_TOD  visit_count  \\\n",
       "0      0.0.7.231    Morning            1   \n",
       "1  10.0.0.1:4100  Afternoon         1715   \n",
       "2  10.0.0.1:4100    Evening            1   \n",
       "3  10.0.0.1:4100    Morning          236   \n",
       "4    10.9.153.35    Evening           37   \n",
       "\n",
       "                                      visit_date_obj  \\\n",
       "0                       [2023-06-21 10:28:31.729402]   \n",
       "1  [2023-02-13 12:18:57.584000, 2023-03-13 12:12:...   \n",
       "2                       [2023-09-29 18:25:00.609477]   \n",
       "3  [2023-03-23 09:47:42.522000, 2023-03-23 10:19:...   \n",
       "4  [2023-05-14 17:49:28.090000, 2023-05-14 17:50:...   \n",
       "\n",
       "                                          visit_date  \n",
       "0                                 [1687323511729402]  \n",
       "1  [1676270937584000, 1678689757058000, 167869137...  \n",
       "2                                 [1695992100609477]  \n",
       "3  [1679545062522000, 1679546963118000, 167954710...  \n",
       "4  [1684066768090000, 1684066856510000, 168406680...  "
      ]
     },
     "execution_count": 11,
     "metadata": {},
     "output_type": "execute_result"
    }
   ],
   "source": [
    "def create_datetime_list(x):\n",
    "    return list(x)\n",
    "\n",
    "\n",
    "modified_data = (\n",
    "    full_data.groupby(\n",
    "        [\"host\", \"visit_TOD\"],\n",
    "        group_keys=False,\n",
    "    )\n",
    "    .agg(\n",
    "        {\n",
    "            \"visit_count\": \"sum\",\n",
    "            \"visit_date_obj\": create_datetime_list,\n",
    "            \"visit_date\": create_datetime_list,\n",
    "        }\n",
    "    )\n",
    "    .reset_index()\n",
    ")\n",
    "\n",
    "modified_data.head()\n"
   ]
  },
  {
   "cell_type": "code",
   "execution_count": 12,
   "metadata": {},
   "outputs": [
    {
     "name": "stdout",
     "output_type": "stream",
     "text": [
      "<class 'pandas.core.frame.DataFrame'>\n",
      "RangeIndex: 3207 entries, 0 to 3206\n",
      "Data columns (total 5 columns):\n",
      " #   Column          Non-Null Count  Dtype \n",
      "---  ------          --------------  ----- \n",
      " 0   host            3207 non-null   object\n",
      " 1   visit_TOD       3207 non-null   object\n",
      " 2   visit_count     3207 non-null   int64 \n",
      " 3   visit_date_obj  3207 non-null   object\n",
      " 4   visit_date      3207 non-null   object\n",
      "dtypes: int64(1), object(4)\n",
      "memory usage: 125.4+ KB\n"
     ]
    }
   ],
   "source": [
    "modified_data.info()\n"
   ]
  },
  {
   "cell_type": "code",
   "execution_count": 14,
   "metadata": {},
   "outputs": [],
   "source": [
    "import pandas as pd\n",
    "from sklearn.cluster import DBSCAN\n",
    "from sklearn.preprocessing import StandardScaler\n"
   ]
  },
  {
   "cell_type": "code",
   "execution_count": 50,
   "metadata": {},
   "outputs": [
    {
     "data": {
      "text/plain": [
       "0.5812566077631778"
      ]
     },
     "execution_count": 50,
     "metadata": {},
     "output_type": "execute_result"
    }
   ],
   "source": [
    "dbscan = DBSCAN(eps=30000000, min_samples=5)\n",
    "\n",
    "dbs = dbscan.fit_predict(full_data[[\"visit_date\"]])\n",
    "\n",
    "dbs.sort()\n",
    "\n",
    "# count number of -1\n",
    "(dbs[dbs == -1].size / dbs.size)\n"
   ]
  },
  {
   "cell_type": "code",
   "execution_count": 14,
   "metadata": {},
   "outputs": [
    {
     "data": {
      "text/html": [
       "<div>\n",
       "<style scoped>\n",
       "    .dataframe tbody tr th:only-of-type {\n",
       "        vertical-align: middle;\n",
       "    }\n",
       "\n",
       "    .dataframe tbody tr th {\n",
       "        vertical-align: top;\n",
       "    }\n",
       "\n",
       "    .dataframe thead th {\n",
       "        text-align: right;\n",
       "    }\n",
       "</style>\n",
       "<table border=\"1\" class=\"dataframe\">\n",
       "  <thead>\n",
       "    <tr style=\"text-align: right;\">\n",
       "      <th></th>\n",
       "      <th>host</th>\n",
       "      <th>visit_TOD</th>\n",
       "      <th>visit_count</th>\n",
       "      <th>visit_date_obj</th>\n",
       "      <th>visit_date</th>\n",
       "    </tr>\n",
       "  </thead>\n",
       "  <tbody>\n",
       "    <tr>\n",
       "      <th>2375</th>\n",
       "      <td>twitter.com</td>\n",
       "      <td>Night</td>\n",
       "      <td>335</td>\n",
       "      <td>[2023-05-28 02:08:49.442000, 2023-06-10 00:00:...</td>\n",
       "      <td>[1685219929442000, 1686335417683147, 168676447...</td>\n",
       "    </tr>\n",
       "    <tr>\n",
       "      <th>215</th>\n",
       "      <td>app.simplelogin.io</td>\n",
       "      <td>Evening</td>\n",
       "      <td>331</td>\n",
       "      <td>[2023-04-14 18:17:27.186000, 2023-04-14 20:07:...</td>\n",
       "      <td>[1681476447186000, 1681483068931000, 168148314...</td>\n",
       "    </tr>\n",
       "    <tr>\n",
       "      <th>1276</th>\n",
       "      <td>hub.docker.com</td>\n",
       "      <td>Evening</td>\n",
       "      <td>325</td>\n",
       "      <td>[2023-06-03 21:29:46.300000, 2023-06-03 17:07:...</td>\n",
       "      <td>[1685807986300000, 1685792250323000, 168579216...</td>\n",
       "    </tr>\n",
       "    <tr>\n",
       "      <th>73</th>\n",
       "      <td>access.redhat.com</td>\n",
       "      <td>Evening</td>\n",
       "      <td>322</td>\n",
       "      <td>[2023-06-08 18:22:29.904734, 2023-06-01 17:24:...</td>\n",
       "      <td>[1686228749904734, 1685620450645000, 168562062...</td>\n",
       "    </tr>\n",
       "    <tr>\n",
       "      <th>711</th>\n",
       "      <td>developers.flow.com</td>\n",
       "      <td>Evening</td>\n",
       "      <td>317</td>\n",
       "      <td>[2023-07-03 18:16:21.455791, 2023-07-03 22:54:...</td>\n",
       "      <td>[1688388381455791, 1688405043664794, 168822565...</td>\n",
       "    </tr>\n",
       "  </tbody>\n",
       "</table>\n",
       "</div>"
      ],
      "text/plain": [
       "                     host visit_TOD  visit_count  \\\n",
       "2375          twitter.com     Night          335   \n",
       "215    app.simplelogin.io   Evening          331   \n",
       "1276       hub.docker.com   Evening          325   \n",
       "73      access.redhat.com   Evening          322   \n",
       "711   developers.flow.com   Evening          317   \n",
       "\n",
       "                                         visit_date_obj  \\\n",
       "2375  [2023-05-28 02:08:49.442000, 2023-06-10 00:00:...   \n",
       "215   [2023-04-14 18:17:27.186000, 2023-04-14 20:07:...   \n",
       "1276  [2023-06-03 21:29:46.300000, 2023-06-03 17:07:...   \n",
       "73    [2023-06-08 18:22:29.904734, 2023-06-01 17:24:...   \n",
       "711   [2023-07-03 18:16:21.455791, 2023-07-03 22:54:...   \n",
       "\n",
       "                                             visit_date  \n",
       "2375  [1685219929442000, 1686335417683147, 168676447...  \n",
       "215   [1681476447186000, 1681483068931000, 168148314...  \n",
       "1276  [1685807986300000, 1685792250323000, 168579216...  \n",
       "73    [1686228749904734, 1685620450645000, 168562062...  \n",
       "711   [1688388381455791, 1688405043664794, 168822565...  "
      ]
     },
     "execution_count": 14,
     "metadata": {},
     "output_type": "execute_result"
    }
   ],
   "source": [
    "top_30_data = modified_data.sort_values(by=\"visit_count\", ascending=False).iloc[21:41]\n",
    "\n",
    "top_30_data.head()\n"
   ]
  },
  {
   "cell_type": "code",
   "execution_count": 16,
   "metadata": {},
   "outputs": [
    {
     "name": "stderr",
     "output_type": "stream",
     "text": [
      "/home/tirth/College/Sem-5/FDS/FDS-Prac/venv/lib64/python3.11/site-packages/seaborn/axisgrid.py:123: UserWarning: The figure layout has changed to tight\n",
      "  self._figure.tight_layout(*args, **kwargs)\n"
     ]
    },
    {
     "data": {
      "image/png": "[encoded data removed]",
      "text/plain": [
       "<Figure size 724.75x600 with 1 Axes>"
      ]
     },
     "metadata": {},
     "output_type": "display_data"
    }
   ],
   "source": [
    "ax = sns.relplot(\n",
    "    x=\"host\",\n",
    "    y=\"visit_TOD\",\n",
    "    data=top_30_data,\n",
    "    hue=\"visit_TOD\",\n",
    "    size=\"visit_count\",\n",
    "    height=6,\n",
    "    aspect=1,\n",
    "    legend=\"brief\",\n",
    ")\n",
    "\n",
    "ax.set_xticklabels(rotation=90, ha=\"right\", fontsize=9, y=0)\n",
    "\n",
    "plt.show()\n"
   ]
  }
 ],
 "metadata": {
  "kernelspec": {
   "display_name": "venv",
   "language": "python",
   "name": "python3"
  },
  "language_info": {
   "codemirror_mode": {
    "name": "ipython",
    "version": 3
   },
   "file_extension": ".py",
   "mimetype": "text/x-python",
   "name": "python",
   "nbconvert_exporter": "python",
   "pygments_lexer": "ipython3",
   "version": "3.11.6"
  }
 },
 "nbformat": 4,
 "nbformat_minor": 2
}
