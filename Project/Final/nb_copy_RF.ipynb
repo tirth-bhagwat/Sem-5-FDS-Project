{
 "cells": [
  {
   "cell_type": "code",
   "execution_count": 32,
   "metadata": {},
   "outputs": [],
   "source": [
    "import sqlite3\n",
    "import pandas as pd\n",
    "import seaborn as sns\n",
    "from matplotlib import pyplot as plt\n",
    "import numpy as np\n"
   ]
  },
  {
   "cell_type": "code",
   "execution_count": 33,
   "metadata": {},
   "outputs": [],
   "source": [
    "conn = sqlite3.connect(\"../../places.sqlite\")\n",
    "\n",
    "full_data = pd.read_sql_query(\n",
    "    \"\"\"\n",
    "SELECT \n",
    "\tmoz_places.url as url,\n",
    "    moz_historyvisits.'visit_date' as 'visit_date'\n",
    "from moz_historyvisits\n",
    "    join moz_places on moz_places.id = moz_historyvisits.place_id;\n",
    "    \n",
    "\"\"\",\n",
    "    conn,\n",
    ")\n",
    "\n",
    "# region 1\n",
    "\n",
    "# full_data = pd.read_sql_query(\n",
    "#     \"\"\"\n",
    "# SELECT\n",
    "# \tmoz_places.url as pl_url,\n",
    "#     moz_places.visit_count as pl_visit_count,\n",
    "#     moz_places.frecency as pl_url_frecency,\n",
    "#     moz_places.last_visit_date as pl_last_visit_date,\n",
    "#     moz_historyvisits.'from_visit' as 'his_from_visit',\n",
    "#     moz_historyvisits.'visit_date' as 'his_visit_date',\n",
    "#     moz_historyvisits.'visit_type' as 'his_visit_type'\n",
    "# from moz_historyvisits\n",
    "#     join moz_places on moz_places.id = moz_historyvisits.place_id;\n",
    "\n",
    "# \"\"\",\n",
    "#     conn,\n",
    "# )\n",
    "\n",
    "# endregion\n",
    "\n",
    "# full_data[full_data[\"visit_count\"] == 0] = 1\n"
   ]
  },
  {
   "cell_type": "code",
   "execution_count": 34,
   "metadata": {},
   "outputs": [
    {
     "data": {
      "text/html": [
       "<div>\n",
       "<style scoped>\n",
       "    .dataframe tbody tr th:only-of-type {\n",
       "        vertical-align: middle;\n",
       "    }\n",
       "\n",
       "    .dataframe tbody tr th {\n",
       "        vertical-align: top;\n",
       "    }\n",
       "\n",
       "    .dataframe thead th {\n",
       "        text-align: right;\n",
       "    }\n",
       "</style>\n",
       "<table border=\"1\" class=\"dataframe\">\n",
       "  <thead>\n",
       "    <tr style=\"text-align: right;\">\n",
       "      <th></th>\n",
       "      <th>url</th>\n",
       "      <th>visit_date</th>\n",
       "    </tr>\n",
       "  </thead>\n",
       "  <tbody>\n",
       "    <tr>\n",
       "      <th>0</th>\n",
       "      <td>https://spins.fedoraproject.org/</td>\n",
       "      <td>1652190849558000</td>\n",
       "    </tr>\n",
       "    <tr>\n",
       "      <th>1</th>\n",
       "      <td>https://spins.fedoraproject.org/</td>\n",
       "      <td>1654098416035000</td>\n",
       "    </tr>\n",
       "    <tr>\n",
       "      <th>2</th>\n",
       "      <td>https://spins.fedoraproject.org/</td>\n",
       "      <td>1656856015277000</td>\n",
       "    </tr>\n",
       "    <tr>\n",
       "      <th>3</th>\n",
       "      <td>https://spins.fedoraproject.org/</td>\n",
       "      <td>1666263920924000</td>\n",
       "    </tr>\n",
       "    <tr>\n",
       "      <th>4</th>\n",
       "      <td>https://spins.fedoraproject.org/</td>\n",
       "      <td>1668600233996000</td>\n",
       "    </tr>\n",
       "  </tbody>\n",
       "</table>\n",
       "</div>"
      ],
      "text/plain": [
       "                                url        visit_date\n",
       "0  https://spins.fedoraproject.org/  1652190849558000\n",
       "1  https://spins.fedoraproject.org/  1654098416035000\n",
       "2  https://spins.fedoraproject.org/  1656856015277000\n",
       "3  https://spins.fedoraproject.org/  1666263920924000\n",
       "4  https://spins.fedoraproject.org/  1668600233996000"
      ]
     },
     "execution_count": 34,
     "metadata": {},
     "output_type": "execute_result"
    }
   ],
   "source": [
    "full_data.head()\n"
   ]
  },
  {
   "cell_type": "code",
   "execution_count": 35,
   "metadata": {},
   "outputs": [
    {
     "data": {
      "text/plain": [
       "2229"
      ]
     },
     "execution_count": 35,
     "metadata": {},
     "output_type": "execute_result"
    }
   ],
   "source": [
    "import csv\n",
    "import re\n",
    "\n",
    "full_data[\"host\"] = full_data[\"url\"].map(\n",
    "    lambda x: re.match(r\"https?:\\/\\/(([^/]+\\.)+[^/]+)\", x).group(1)\n",
    "    if re.match(r\"https?:\\/\\/(([^/]+\\.)+[^/]+)\", x) is not None\n",
    "    else pd.NA\n",
    ")\n",
    "\n",
    "\n",
    "full_data.to_csv(\"full_data.csv\", index=False, quoting=csv.QUOTE_ALL)\n",
    "full_data[\"host\"].isna().sum()\n"
   ]
  },
  {
   "cell_type": "code",
   "execution_count": 36,
   "metadata": {},
   "outputs": [],
   "source": [
    "from datetime import datetime\n",
    "\n",
    "full_data[\"visit_date_obj\"] = full_data[\"visit_date\"].map(\n",
    "    lambda x: datetime.fromtimestamp(x / 1000000)\n",
    ")\n"
   ]
  },
  {
   "cell_type": "code",
   "execution_count": 37,
   "metadata": {},
   "outputs": [
    {
     "name": "stdout",
     "output_type": "stream",
     "text": [
      "<class 'pandas.core.frame.DataFrame'>\n",
      "RangeIndex: 66210 entries, 0 to 66209\n",
      "Data columns (total 4 columns):\n",
      " #   Column          Non-Null Count  Dtype         \n",
      "---  ------          --------------  -----         \n",
      " 0   visit_date      66210 non-null  int64         \n",
      " 1   host            66210 non-null  object        \n",
      " 2   visit_date_obj  66210 non-null  datetime64[ns]\n",
      " 3   visit_count     66210 non-null  int64         \n",
      "dtypes: datetime64[ns](1), int64(2), object(1)\n",
      "memory usage: 2.0+ MB\n"
     ]
    }
   ],
   "source": [
    "full_data.drop(\"url\", axis=1, inplace=True)\n",
    "full_data[\"visit_count\"] = 1\n",
    "\n",
    "full_data.dropna(axis=0, how=\"any\", inplace=True)\n",
    "full_data.reset_index(inplace=True, drop=True)\n",
    "\n",
    "full_data.info()\n"
   ]
  },
  {
   "cell_type": "code",
   "execution_count": 38,
   "metadata": {},
   "outputs": [
    {
     "data": {
      "text/html": [
       "<div>\n",
       "<style scoped>\n",
       "    .dataframe tbody tr th:only-of-type {\n",
       "        vertical-align: middle;\n",
       "    }\n",
       "\n",
       "    .dataframe tbody tr th {\n",
       "        vertical-align: top;\n",
       "    }\n",
       "\n",
       "    .dataframe thead th {\n",
       "        text-align: right;\n",
       "    }\n",
       "</style>\n",
       "<table border=\"1\" class=\"dataframe\">\n",
       "  <thead>\n",
       "    <tr style=\"text-align: right;\">\n",
       "      <th></th>\n",
       "      <th>visit_date</th>\n",
       "      <th>host</th>\n",
       "      <th>visit_date_obj</th>\n",
       "      <th>visit_count</th>\n",
       "    </tr>\n",
       "  </thead>\n",
       "  <tbody>\n",
       "    <tr>\n",
       "      <th>0</th>\n",
       "      <td>1652190849558000</td>\n",
       "      <td>spins.fedoraproject.org</td>\n",
       "      <td>2022-05-10 13:54:09.558</td>\n",
       "      <td>1</td>\n",
       "    </tr>\n",
       "    <tr>\n",
       "      <th>1</th>\n",
       "      <td>1654098416035000</td>\n",
       "      <td>spins.fedoraproject.org</td>\n",
       "      <td>2022-06-01 15:46:56.035</td>\n",
       "      <td>1</td>\n",
       "    </tr>\n",
       "    <tr>\n",
       "      <th>2</th>\n",
       "      <td>1656856015277000</td>\n",
       "      <td>spins.fedoraproject.org</td>\n",
       "      <td>2022-07-03 13:46:55.277</td>\n",
       "      <td>1</td>\n",
       "    </tr>\n",
       "    <tr>\n",
       "      <th>3</th>\n",
       "      <td>1666263920924000</td>\n",
       "      <td>spins.fedoraproject.org</td>\n",
       "      <td>2022-10-20 11:05:20.924</td>\n",
       "      <td>1</td>\n",
       "    </tr>\n",
       "    <tr>\n",
       "      <th>4</th>\n",
       "      <td>1668600233996000</td>\n",
       "      <td>spins.fedoraproject.org</td>\n",
       "      <td>2022-11-16 12:03:53.996</td>\n",
       "      <td>1</td>\n",
       "    </tr>\n",
       "  </tbody>\n",
       "</table>\n",
       "</div>"
      ],
      "text/plain": [
       "         visit_date                     host          visit_date_obj  \\\n",
       "0  1652190849558000  spins.fedoraproject.org 2022-05-10 13:54:09.558   \n",
       "1  1654098416035000  spins.fedoraproject.org 2022-06-01 15:46:56.035   \n",
       "2  1656856015277000  spins.fedoraproject.org 2022-07-03 13:46:55.277   \n",
       "3  1666263920924000  spins.fedoraproject.org 2022-10-20 11:05:20.924   \n",
       "4  1668600233996000  spins.fedoraproject.org 2022-11-16 12:03:53.996   \n",
       "\n",
       "   visit_count  \n",
       "0            1  \n",
       "1            1  \n",
       "2            1  \n",
       "3            1  \n",
       "4            1  "
      ]
     },
     "execution_count": 38,
     "metadata": {},
     "output_type": "execute_result"
    }
   ],
   "source": [
    "full_data.head()\n"
   ]
  },
  {
   "cell_type": "code",
   "execution_count": 39,
   "metadata": {},
   "outputs": [
    {
     "name": "stdout",
     "output_type": "stream",
     "text": [
      "<class 'pandas.core.frame.DataFrame'>\n",
      "RangeIndex: 2180 entries, 0 to 2179\n",
      "Data columns (total 6 columns):\n",
      " #   Column            Non-Null Count  Dtype \n",
      "---  ------            --------------  ----- \n",
      " 0   host              2180 non-null   object\n",
      " 1   visits_morning    2180 non-null   Int64 \n",
      " 2   visits_afternoon  2180 non-null   Int64 \n",
      " 3   visits_evening    2180 non-null   Int64 \n",
      " 4   visits_night      2180 non-null   Int64 \n",
      " 5   total_visits      2180 non-null   int64 \n",
      "dtypes: Int64(4), int64(1), object(1)\n",
      "memory usage: 110.8+ KB\n"
     ]
    }
   ],
   "source": [
    "time_frames = {\n",
    "    \"morning\": (5, 11),\n",
    "    \"afternoon\": (11, 17),\n",
    "    \"evening\": (17, 23),\n",
    "    # \"night\": (23, 5),\n",
    "}\n",
    "\n",
    "modified_data = pd.DataFrame()\n",
    "\n",
    "modified_data[\"host\"] = full_data[\"host\"].unique()\n",
    "\n",
    "for time_frame, (start, end) in time_frames.items():\n",
    "    modified_data = modified_data.merge(\n",
    "        full_data[\n",
    "            (\n",
    "                (full_data[\"visit_date_obj\"].dt.hour >= start)\n",
    "                & (full_data[\"visit_date_obj\"].dt.hour < end)\n",
    "            )\n",
    "        ]\n",
    "        .groupby(\"host\")\n",
    "        .agg({\"visit_count\": \"sum\"})\n",
    "        .rename(columns={\"visit_count\": f\"visits_{time_frame}\"})\n",
    "        .astype({f\"visits_{time_frame}\": pd.Int64Dtype()})\n",
    "        .reset_index(),\n",
    "        on=\"host\",\n",
    "        how=\"left\",\n",
    "    )\n",
    "\n",
    "modified_data = modified_data.merge(\n",
    "    full_data[\n",
    "        (\n",
    "            (full_data[\"visit_date_obj\"].dt.hour < 5)\n",
    "            | (full_data[\"visit_date_obj\"].dt.hour <= 23)\n",
    "        )\n",
    "    ]\n",
    "    .groupby(\"host\")\n",
    "    .agg({\"visit_count\": \"sum\"})\n",
    "    .rename(columns={\"visit_count\": f\"visits_night\"})\n",
    "    .astype({f\"visits_night\": pd.Int64Dtype()})\n",
    "    .reset_index(),\n",
    "    on=\"host\",\n",
    "    how=\"left\",\n",
    ")\n",
    "\n",
    "modified_data[\"total_visits\"] = modified_data[\n",
    "    [\"visits_morning\", \"visits_afternoon\", \"visits_evening\", \"visits_night\"]\n",
    "].sum(axis=1)\n",
    "\n",
    "modified_data = modified_data.fillna(0)\n",
    "\n",
    "modified_data.info()\n"
   ]
  },
  {
   "cell_type": "code",
   "execution_count": 40,
   "metadata": {},
   "outputs": [
    {
     "data": {
      "text/html": [
       "<div>\n",
       "<style scoped>\n",
       "    .dataframe tbody tr th:only-of-type {\n",
       "        vertical-align: middle;\n",
       "    }\n",
       "\n",
       "    .dataframe tbody tr th {\n",
       "        vertical-align: top;\n",
       "    }\n",
       "\n",
       "    .dataframe thead th {\n",
       "        text-align: right;\n",
       "    }\n",
       "</style>\n",
       "<table border=\"1\" class=\"dataframe\">\n",
       "  <thead>\n",
       "    <tr style=\"text-align: right;\">\n",
       "      <th></th>\n",
       "      <th>host</th>\n",
       "      <th>visits_morning</th>\n",
       "      <th>visits_afternoon</th>\n",
       "      <th>visits_evening</th>\n",
       "      <th>visits_night</th>\n",
       "      <th>total_visits</th>\n",
       "    </tr>\n",
       "  </thead>\n",
       "  <tbody>\n",
       "    <tr>\n",
       "      <th>0</th>\n",
       "      <td>spins.fedoraproject.org</td>\n",
       "      <td>4</td>\n",
       "      <td>10</td>\n",
       "      <td>0</td>\n",
       "      <td>14</td>\n",
       "      <td>28</td>\n",
       "    </tr>\n",
       "    <tr>\n",
       "      <th>1</th>\n",
       "      <td>www.redhat.com</td>\n",
       "      <td>37</td>\n",
       "      <td>75</td>\n",
       "      <td>2</td>\n",
       "      <td>117</td>\n",
       "      <td>231</td>\n",
       "    </tr>\n",
       "    <tr>\n",
       "      <th>2</th>\n",
       "      <td>www.wikipedia.org</td>\n",
       "      <td>2</td>\n",
       "      <td>2</td>\n",
       "      <td>1</td>\n",
       "      <td>5</td>\n",
       "      <td>10</td>\n",
       "    </tr>\n",
       "    <tr>\n",
       "      <th>3</th>\n",
       "      <td>www.mozilla.org</td>\n",
       "      <td>3</td>\n",
       "      <td>1</td>\n",
       "      <td>0</td>\n",
       "      <td>4</td>\n",
       "      <td>8</td>\n",
       "    </tr>\n",
       "    <tr>\n",
       "      <th>4</th>\n",
       "      <td>addons.mozilla.org</td>\n",
       "      <td>57</td>\n",
       "      <td>50</td>\n",
       "      <td>25</td>\n",
       "      <td>133</td>\n",
       "      <td>265</td>\n",
       "    </tr>\n",
       "  </tbody>\n",
       "</table>\n",
       "</div>"
      ],
      "text/plain": [
       "                      host  visits_morning  visits_afternoon  visits_evening  \\\n",
       "0  spins.fedoraproject.org               4                10               0   \n",
       "1           www.redhat.com              37                75               2   \n",
       "2        www.wikipedia.org               2                 2               1   \n",
       "3          www.mozilla.org               3                 1               0   \n",
       "4       addons.mozilla.org              57                50              25   \n",
       "\n",
       "   visits_night  total_visits  \n",
       "0            14            28  \n",
       "1           117           231  \n",
       "2             5            10  \n",
       "3             4             8  \n",
       "4           133           265  "
      ]
     },
     "execution_count": 40,
     "metadata": {},
     "output_type": "execute_result"
    }
   ],
   "source": [
    "modified_data.head()\n"
   ]
  },
  {
   "cell_type": "code",
   "execution_count": 41,
   "metadata": {},
   "outputs": [
    {
     "name": "stdout",
     "output_type": "stream",
     "text": [
      "<class 'pandas.core.frame.DataFrame'>\n",
      "RangeIndex: 60 entries, 0 to 59\n",
      "Data columns (total 4 columns):\n",
      " #   Column           Non-Null Count  Dtype \n",
      "---  ------           --------------  ----- \n",
      " 0   host             60 non-null     object\n",
      " 1   total_visits     60 non-null     int64 \n",
      " 2   visit_TOD        60 non-null     object\n",
      " 3   visit_count_TOD  60 non-null     Int64 \n",
      "dtypes: Int64(1), int64(1), object(2)\n",
      "memory usage: 2.1+ KB\n"
     ]
    }
   ],
   "source": [
    "selected_data = modified_data.sort_values(by=\"total_visits\", ascending=False).iloc[:15]\n",
    "\n",
    "# 'host',\t'host_frecency',\t'total_visits',\t'visits_morning',\t'visits_afternoon',\t'visits_evening',\t'visits_night'\n",
    "\n",
    "# Melt the dataset to combine \"visits_morning,\" \"visits_afternoon,\" etc. into a \"time\" column\n",
    "selected_data = selected_data.melt(\n",
    "    id_vars=[\"host\", \"total_visits\"],\n",
    "    value_vars=[\"visits_morning\", \"visits_afternoon\", \"visits_evening\", \"visits_night\"],\n",
    "    var_name=\"visit_TOD\",\n",
    "    value_name=\"visit_count_TOD\",\n",
    ")\n",
    "\n",
    "selected_data.info()\n"
   ]
  },
  {
   "cell_type": "code",
   "execution_count": 42,
   "metadata": {},
   "outputs": [
    {
     "name": "stderr",
     "output_type": "stream",
     "text": [
      "/home/ubuntu/FDS/.venv/lib/python3.10/site-packages/seaborn/axisgrid.py:123: UserWarning: The figure layout has changed to tight\n",
      "  self._figure.tight_layout(*args, **kwargs)\n"
     ]
    },
    {
     "data": {
      "image/png": "[encoded data removed]",
      "text/plain": [
       "<Figure size 1510.12x900 with 1 Axes>"
      ]
     },
     "metadata": {},
     "output_type": "display_data"
    }
   ],
   "source": [
    "ax = sns.relplot(\n",
    "    x=\"visit_count_TOD\",\n",
    "    y=\"host\",\n",
    "    data=selected_data.sort_values(by=\"total_visits\", ascending=False),\n",
    "    hue=\"visit_TOD\",\n",
    "    size=\"total_visits\",\n",
    "    height=9,\n",
    "    aspect=1.5,\n",
    "    legend=\"brief\",\n",
    ")\n",
    "\n",
    "# ax.set_xticklabels(rotation=90, ha=\"right\", fontsize=8.5, y=1)\n",
    "\n",
    "plt.show()\n"
   ]
  },
  {
   "cell_type": "markdown",
   "metadata": {},
   "source": [
    "# Part 2"
   ]
  },
  {
   "cell_type": "code",
   "execution_count": 43,
   "metadata": {},
   "outputs": [],
   "source": [
    "conn = sqlite3.connect(\"../../places.sqlite\")\n",
    "\n",
    "data_2 = pd.read_sql_query(\n",
    "    \"\"\"\n",
    "SELECT moz_historyvisits.id,\n",
    "    moz_places.url as url,\n",
    "    moz_historyvisits.'visit_date' as 'visit_date',\n",
    "    moz_historyvisits.from_visit as from_visit,\n",
    "    NULL AS from_url\n",
    "FROM moz_historyvisits\n",
    "    JOIN moz_places ON moz_places.id = moz_historyvisits.place_id\n",
    "WHERE moz_historyvisits.from_visit NOT IN (\n",
    "        SELECT id\n",
    "        FROM moz_historyvisits\n",
    "    )\n",
    "UNION\n",
    "SELECT moz_historyvisits.id,\n",
    "    moz_places.url as url,\n",
    "    moz_historyvisits.'visit_date' as 'visit_date',\n",
    "    moz_historyvisits.from_visit as from_visit,\n",
    "    t2.url as from_url\n",
    "FROM moz_historyvisits\n",
    "    JOIN moz_places ON moz_places.id = moz_historyvisits.place_id\n",
    "    JOIN (\n",
    "        SELECT moz_historyvisits.id,\n",
    "            moz_places.url as url\n",
    "        FROM moz_historyvisits\n",
    "            JOIN moz_places ON moz_places.id = moz_historyvisits.place_id\n",
    "    ) AS t2 ON t2.id = moz_historyvisits.from_visit;\n",
    "    \n",
    "\"\"\",\n",
    "    conn,\n",
    ")\n"
   ]
  },
  {
   "cell_type": "code",
   "execution_count": 44,
   "metadata": {},
   "outputs": [
    {
     "data": {
      "text/html": [
       "<div>\n",
       "<style scoped>\n",
       "    .dataframe tbody tr th:only-of-type {\n",
       "        vertical-align: middle;\n",
       "    }\n",
       "\n",
       "    .dataframe tbody tr th {\n",
       "        vertical-align: top;\n",
       "    }\n",
       "\n",
       "    .dataframe thead th {\n",
       "        text-align: right;\n",
       "    }\n",
       "</style>\n",
       "<table border=\"1\" class=\"dataframe\">\n",
       "  <thead>\n",
       "    <tr style=\"text-align: right;\">\n",
       "      <th></th>\n",
       "      <th>id</th>\n",
       "      <th>url</th>\n",
       "      <th>visit_date</th>\n",
       "      <th>from_visit</th>\n",
       "      <th>from_url</th>\n",
       "    </tr>\n",
       "  </thead>\n",
       "  <tbody>\n",
       "    <tr>\n",
       "      <th>0</th>\n",
       "      <td>2</td>\n",
       "      <td>https://www.mozilla.org/en-US/privacy/firefox/</td>\n",
       "      <td>1685958651538450</td>\n",
       "      <td>1</td>\n",
       "      <td>None</td>\n",
       "    </tr>\n",
       "    <tr>\n",
       "      <th>1</th>\n",
       "      <td>4</td>\n",
       "      <td>https://addons.mozilla.org/en-US/firefox/searc...</td>\n",
       "      <td>1685958696631130</td>\n",
       "      <td>3</td>\n",
       "      <td>None</td>\n",
       "    </tr>\n",
       "    <tr>\n",
       "      <th>2</th>\n",
       "      <td>5</td>\n",
       "      <td>https://addons.mozilla.org/en-US/firefox/searc...</td>\n",
       "      <td>1685958697019279</td>\n",
       "      <td>4</td>\n",
       "      <td>https://addons.mozilla.org/en-US/firefox/searc...</td>\n",
       "    </tr>\n",
       "    <tr>\n",
       "      <th>3</th>\n",
       "      <td>6</td>\n",
       "      <td>https://addons.mozilla.org/en-US/firefox/addon...</td>\n",
       "      <td>1685958699268107</td>\n",
       "      <td>5</td>\n",
       "      <td>https://addons.mozilla.org/en-US/firefox/searc...</td>\n",
       "    </tr>\n",
       "    <tr>\n",
       "      <th>4</th>\n",
       "      <td>7</td>\n",
       "      <td>http://firefox.com/</td>\n",
       "      <td>1685958832055490</td>\n",
       "      <td>0</td>\n",
       "      <td>None</td>\n",
       "    </tr>\n",
       "  </tbody>\n",
       "</table>\n",
       "</div>"
      ],
      "text/plain": [
       "   id                                                url        visit_date  \\\n",
       "0   2     https://www.mozilla.org/en-US/privacy/firefox/  1685958651538450   \n",
       "1   4  https://addons.mozilla.org/en-US/firefox/searc...  1685958696631130   \n",
       "2   5  https://addons.mozilla.org/en-US/firefox/searc...  1685958697019279   \n",
       "3   6  https://addons.mozilla.org/en-US/firefox/addon...  1685958699268107   \n",
       "4   7                                http://firefox.com/  1685958832055490   \n",
       "\n",
       "   from_visit                                           from_url  \n",
       "0           1                                               None  \n",
       "1           3                                               None  \n",
       "2           4  https://addons.mozilla.org/en-US/firefox/searc...  \n",
       "3           5  https://addons.mozilla.org/en-US/firefox/searc...  \n",
       "4           0                                               None  "
      ]
     },
     "execution_count": 44,
     "metadata": {},
     "output_type": "execute_result"
    }
   ],
   "source": [
    "data_2.head()\n"
   ]
  },
  {
   "cell_type": "code",
   "execution_count": 45,
   "metadata": {},
   "outputs": [
    {
     "data": {
      "text/plain": [
       "2229"
      ]
     },
     "execution_count": 45,
     "metadata": {},
     "output_type": "execute_result"
    }
   ],
   "source": [
    "import csv\n",
    "import re\n",
    "\n",
    "data_2[\"host\"] = data_2[\"url\"].map(\n",
    "    lambda x: re.match(r\"https?:\\/\\/(([^/]+\\.)+[^/]+)\", x).group(1)\n",
    "    if re.match(r\"https?:\\/\\/(([^/]+\\.)+[^/]+)\", x) is not None\n",
    "    else pd.NA\n",
    ")\n",
    "\n",
    "data_2[\"from_host\"] = data_2[\"from_url\"].map(\n",
    "    lambda x: re.match(r\"https?:\\/\\/(([^/]+\\.)+[^/]+)\", x).group(1)\n",
    "    if x is not None and re.match(r\"https?:\\/\\/(([^/]+\\.)+[^/]+)\", x) is not None\n",
    "    else pd.NA\n",
    ")\n",
    "\n",
    "data_2[\"host\"].isna().sum()\n"
   ]
  },
  {
   "cell_type": "code",
   "execution_count": 46,
   "metadata": {},
   "outputs": [],
   "source": [
    "from datetime import datetime\n",
    "\n",
    "data_2[\"visit_date_obj\"] = data_2[\"visit_date\"].map(\n",
    "    lambda x: datetime.fromtimestamp(x / 1000000)\n",
    ")\n"
   ]
  },
  {
   "cell_type": "code",
   "execution_count": 47,
   "metadata": {},
   "outputs": [
    {
     "name": "stdout",
     "output_type": "stream",
     "text": [
      "<class 'pandas.core.frame.DataFrame'>\n",
      "RangeIndex: 27229 entries, 0 to 27228\n",
      "Data columns (total 7 columns):\n",
      " #   Column          Non-Null Count  Dtype         \n",
      "---  ------          --------------  -----         \n",
      " 0   id              27229 non-null  int64         \n",
      " 1   visit_date      27229 non-null  int64         \n",
      " 2   from_visit      27229 non-null  int64         \n",
      " 3   host            27229 non-null  object        \n",
      " 4   from_host       27229 non-null  object        \n",
      " 5   visit_date_obj  27229 non-null  datetime64[ns]\n",
      " 6   visit_count     27229 non-null  int64         \n",
      "dtypes: datetime64[ns](1), int64(4), object(2)\n",
      "memory usage: 1.5+ MB\n"
     ]
    }
   ],
   "source": [
    "data_2.drop(\"url\", axis=1, inplace=True)\n",
    "data_2.drop(\"from_url\", axis=1, inplace=True)\n",
    "data_2[\"visit_count\"] = 1\n",
    "\n",
    "data_2.dropna(axis=0, how=\"any\", inplace=True)\n",
    "data_2.reset_index(inplace=True, drop=True)\n",
    "\n",
    "data_2.info()\n"
   ]
  },
  {
   "cell_type": "code",
   "execution_count": 48,
   "metadata": {
    "tags": []
   },
   "outputs": [
    {
     "data": {
      "text/html": [
       "<div>\n",
       "<style scoped>\n",
       "    .dataframe tbody tr th:only-of-type {\n",
       "        vertical-align: middle;\n",
       "    }\n",
       "\n",
       "    .dataframe tbody tr th {\n",
       "        vertical-align: top;\n",
       "    }\n",
       "\n",
       "    .dataframe thead th {\n",
       "        text-align: right;\n",
       "    }\n",
       "</style>\n",
       "<table border=\"1\" class=\"dataframe\">\n",
       "  <thead>\n",
       "    <tr style=\"text-align: right;\">\n",
       "      <th></th>\n",
       "      <th>id</th>\n",
       "      <th>visit_date</th>\n",
       "      <th>from_visit</th>\n",
       "      <th>host</th>\n",
       "      <th>from_host</th>\n",
       "      <th>visit_date_obj</th>\n",
       "      <th>visit_count</th>\n",
       "    </tr>\n",
       "  </thead>\n",
       "  <tbody>\n",
       "    <tr>\n",
       "      <th>0</th>\n",
       "      <td>5</td>\n",
       "      <td>1685958697019279</td>\n",
       "      <td>4</td>\n",
       "      <td>addons.mozilla.org</td>\n",
       "      <td>addons.mozilla.org</td>\n",
       "      <td>2023-06-05 09:51:37.019279</td>\n",
       "      <td>1</td>\n",
       "    </tr>\n",
       "    <tr>\n",
       "      <th>1</th>\n",
       "      <td>6</td>\n",
       "      <td>1685958699268107</td>\n",
       "      <td>5</td>\n",
       "      <td>addons.mozilla.org</td>\n",
       "      <td>addons.mozilla.org</td>\n",
       "      <td>2023-06-05 09:51:39.268107</td>\n",
       "      <td>1</td>\n",
       "    </tr>\n",
       "    <tr>\n",
       "      <th>2</th>\n",
       "      <td>8</td>\n",
       "      <td>1685958833083090</td>\n",
       "      <td>7</td>\n",
       "      <td>firefox.com</td>\n",
       "      <td>firefox.com</td>\n",
       "      <td>2023-06-05 09:53:53.083090</td>\n",
       "      <td>1</td>\n",
       "    </tr>\n",
       "    <tr>\n",
       "      <th>3</th>\n",
       "      <td>9</td>\n",
       "      <td>1685958833572129</td>\n",
       "      <td>8</td>\n",
       "      <td>www.mozilla.org</td>\n",
       "      <td>firefox.com</td>\n",
       "      <td>2023-06-05 09:53:53.572129</td>\n",
       "      <td>1</td>\n",
       "    </tr>\n",
       "    <tr>\n",
       "      <th>4</th>\n",
       "      <td>10</td>\n",
       "      <td>1685958834207886</td>\n",
       "      <td>9</td>\n",
       "      <td>www.mozilla.org</td>\n",
       "      <td>www.mozilla.org</td>\n",
       "      <td>2023-06-05 09:53:54.207886</td>\n",
       "      <td>1</td>\n",
       "    </tr>\n",
       "  </tbody>\n",
       "</table>\n",
       "</div>"
      ],
      "text/plain": [
       "   id        visit_date  from_visit                host           from_host  \\\n",
       "0   5  1685958697019279           4  addons.mozilla.org  addons.mozilla.org   \n",
       "1   6  1685958699268107           5  addons.mozilla.org  addons.mozilla.org   \n",
       "2   8  1685958833083090           7         firefox.com         firefox.com   \n",
       "3   9  1685958833572129           8     www.mozilla.org         firefox.com   \n",
       "4  10  1685958834207886           9     www.mozilla.org     www.mozilla.org   \n",
       "\n",
       "              visit_date_obj  visit_count  \n",
       "0 2023-06-05 09:51:37.019279            1  \n",
       "1 2023-06-05 09:51:39.268107            1  \n",
       "2 2023-06-05 09:53:53.083090            1  \n",
       "3 2023-06-05 09:53:53.572129            1  \n",
       "4 2023-06-05 09:53:54.207886            1  "
      ]
     },
     "execution_count": 48,
     "metadata": {},
     "output_type": "execute_result"
    }
   ],
   "source": [
    "data_2.head()\n"
   ]
  },
  {
   "cell_type": "code",
   "execution_count": 49,
   "metadata": {},
   "outputs": [
    {
     "data": {
      "text/html": [
       "<div>\n",
       "<style scoped>\n",
       "    .dataframe tbody tr th:only-of-type {\n",
       "        vertical-align: middle;\n",
       "    }\n",
       "\n",
       "    .dataframe tbody tr th {\n",
       "        vertical-align: top;\n",
       "    }\n",
       "\n",
       "    .dataframe thead th {\n",
       "        text-align: right;\n",
       "    }\n",
       "</style>\n",
       "<table border=\"1\" class=\"dataframe\">\n",
       "  <thead>\n",
       "    <tr style=\"text-align: right;\">\n",
       "      <th></th>\n",
       "      <th>host</th>\n",
       "      <th>from_host</th>\n",
       "      <th>total_visits</th>\n",
       "    </tr>\n",
       "  </thead>\n",
       "  <tbody>\n",
       "    <tr>\n",
       "      <th>0</th>\n",
       "      <td>addons.mozilla.org</td>\n",
       "      <td>addons.mozilla.org</td>\n",
       "      <td>265</td>\n",
       "    </tr>\n",
       "    <tr>\n",
       "      <th>1</th>\n",
       "      <td>addons.mozilla.org</td>\n",
       "      <td>addons.mozilla.org</td>\n",
       "      <td>265</td>\n",
       "    </tr>\n",
       "    <tr>\n",
       "      <th>2</th>\n",
       "      <td>firefox.com</td>\n",
       "      <td>firefox.com</td>\n",
       "      <td>4</td>\n",
       "    </tr>\n",
       "    <tr>\n",
       "      <th>3</th>\n",
       "      <td>www.mozilla.org</td>\n",
       "      <td>firefox.com</td>\n",
       "      <td>8</td>\n",
       "    </tr>\n",
       "    <tr>\n",
       "      <th>4</th>\n",
       "      <td>www.mozilla.org</td>\n",
       "      <td>www.mozilla.org</td>\n",
       "      <td>8</td>\n",
       "    </tr>\n",
       "  </tbody>\n",
       "</table>\n",
       "</div>"
      ],
      "text/plain": [
       "                 host           from_host  total_visits\n",
       "0  addons.mozilla.org  addons.mozilla.org           265\n",
       "1  addons.mozilla.org  addons.mozilla.org           265\n",
       "2         firefox.com         firefox.com             4\n",
       "3     www.mozilla.org         firefox.com             8\n",
       "4     www.mozilla.org     www.mozilla.org             8"
      ]
     },
     "execution_count": 49,
     "metadata": {},
     "output_type": "execute_result"
    }
   ],
   "source": [
    "data_2 = data_2[[\"host\", \"from_host\"]].merge(\n",
    "    modified_data[[\"host\", \"total_visits\"]],\n",
    "    on=\"host\",\n",
    "    how=\"left\",\n",
    ")\n",
    "\n",
    "data_2.head()\n"
   ]
  },
  {
   "cell_type": "code",
   "execution_count": 50,
   "metadata": {},
   "outputs": [
    {
     "data": {
      "text/html": [
       "<div>\n",
       "<style scoped>\n",
       "    .dataframe tbody tr th:only-of-type {\n",
       "        vertical-align: middle;\n",
       "    }\n",
       "\n",
       "    .dataframe tbody tr th {\n",
       "        vertical-align: top;\n",
       "    }\n",
       "\n",
       "    .dataframe thead th {\n",
       "        text-align: right;\n",
       "    }\n",
       "</style>\n",
       "<table border=\"1\" class=\"dataframe\">\n",
       "  <thead>\n",
       "    <tr style=\"text-align: right;\">\n",
       "      <th></th>\n",
       "      <th>host_encoded</th>\n",
       "      <th>from_host_encoded</th>\n",
       "      <th>total_visits</th>\n",
       "    </tr>\n",
       "  </thead>\n",
       "  <tbody>\n",
       "    <tr>\n",
       "      <th>0</th>\n",
       "      <td>41</td>\n",
       "      <td>41</td>\n",
       "      <td>265</td>\n",
       "    </tr>\n",
       "    <tr>\n",
       "      <th>1</th>\n",
       "      <td>41</td>\n",
       "      <td>41</td>\n",
       "      <td>265</td>\n",
       "    </tr>\n",
       "    <tr>\n",
       "      <th>2</th>\n",
       "      <td>415</td>\n",
       "      <td>415</td>\n",
       "      <td>4</td>\n",
       "    </tr>\n",
       "    <tr>\n",
       "      <th>3</th>\n",
       "      <td>1188</td>\n",
       "      <td>415</td>\n",
       "      <td>8</td>\n",
       "    </tr>\n",
       "    <tr>\n",
       "      <th>4</th>\n",
       "      <td>1188</td>\n",
       "      <td>1188</td>\n",
       "      <td>8</td>\n",
       "    </tr>\n",
       "  </tbody>\n",
       "</table>\n",
       "</div>"
      ],
      "text/plain": [
       "   host_encoded  from_host_encoded  total_visits\n",
       "0            41                 41           265\n",
       "1            41                 41           265\n",
       "2           415                415             4\n",
       "3          1188                415             8\n",
       "4          1188               1188             8"
      ]
     },
     "execution_count": 50,
     "metadata": {},
     "output_type": "execute_result"
    }
   ],
   "source": [
    "import pandas as pd\n",
    "from sklearn.ensemble import RandomForestClassifier\n",
    "from sklearn.model_selection import train_test_split\n",
    "from sklearn.preprocessing import LabelEncoder\n",
    "\n",
    "host_encoder = LabelEncoder()\n",
    "from_host_encoder = LabelEncoder()\n",
    "\n",
    "full_encoder = LabelEncoder()\n",
    "all_hosts = list(data_2[\"host\"].unique())\n",
    "all_hosts.extend(list(data_2[\"from_host\"].unique()))\n",
    "all_hosts = list(set(all_hosts))\n",
    "all_hosts = np.array(all_hosts)\n",
    "\n",
    "all_hosts_encoded = full_encoder.fit(all_hosts)\n",
    "\n",
    "\n",
    "data_2[\"host_encoded\"] = full_encoder.transform(data_2[\"host\"])\n",
    "data_2[\"from_host_encoded\"] = full_encoder.transform(data_2[\"from_host\"])\n",
    "\n",
    "\n",
    "model_data = data_2[[\"host_encoded\", \"from_host_encoded\", \"total_visits\"]]\n",
    "\n",
    "model_data.head()\n"
   ]
  },
  {
   "cell_type": "code",
   "execution_count": 51,
   "metadata": {},
   "outputs": [],
   "source": [
    "import pandas as pd\n",
    "from sklearn.ensemble import RandomForestClassifier\n",
    "from sklearn.model_selection import train_test_split\n",
    "import multiprocessing\n"
   ]
  },
  {
   "cell_type": "code",
   "execution_count": 52,
   "metadata": {},
   "outputs": [
    {
     "data": {
      "text/plain": [
       "250.0"
      ]
     },
     "execution_count": 52,
     "metadata": {},
     "output_type": "execute_result"
    }
   ],
   "source": [
    "X = model_data[[\"from_host_encoded\"]]\n",
    "Y = model_data[\"host_encoded\"]\n",
    "\n",
    "\n",
    "SINGLE_RUN_TIME = 10  # seconds\n",
    "PARELLES = 4\n",
    "TOTAL_RUNS = 100\n",
    "\n",
    "max_time_sec = TOTAL_RUNS * SINGLE_RUN_TIME / PARELLES\n",
    "\n",
    "max_time_sec\n"
   ]
  },
  {
   "cell_type": "markdown",
   "metadata": {},
   "source": [
    "def train_model(i, X, Y):\n",
    "    X_train, X_test, Y_train, Y_test = train_test_split(\n",
    "        X, Y, test_size=0.2, random_state=i\n",
    "    )\n",
    "    forest = RandomForestClassifier(n_estimators=100, random_state=i)\n",
    "    forest.fit(X_train, Y_train)\n",
    "    score = forest.score(X_test, Y_test)\n",
    "    return (i, score)\n",
    "\n",
    "\n",
    "def get_best_model(X, Y):\n",
    "    num_processes = multiprocessing.cpu_count()  # Number of CPU cores\n",
    "    pool = multiprocessing.Pool(processes=num_processes)\n",
    "    scores = pool.starmap(train_model, [(i, X, Y) for i in range(100)])\n",
    "    pool.close()\n",
    "    pool.join()\n",
    "    return max(scores, key=lambda x: x[1])\n",
    "\n",
    "\n",
    "best_state = get_best_model(X, Y)\n"
   ]
  },
  {
   "cell_type": "code",
   "execution_count": 53,
   "metadata": {},
   "outputs": [
    {
     "data": {
      "text/html": [
       "<style>#sk-container-id-3 {color: black;}#sk-container-id-3 pre{padding: 0;}#sk-container-id-3 div.sk-toggleable {background-color: white;}#sk-container-id-3 label.sk-toggleable__label {cursor: pointer;display: block;width: 100%;margin-bottom: 0;padding: 0.3em;box-sizing: border-box;text-align: center;}#sk-container-id-3 label.sk-toggleable__label-arrow:before {content: \"▸\";float: left;margin-right: 0.25em;color: #696969;}#sk-container-id-3 label.sk-toggleable__label-arrow:hover:before {color: black;}#sk-container-id-3 div.sk-estimator:hover label.sk-toggleable__label-arrow:before {color: black;}#sk-container-id-3 div.sk-toggleable__content {max-height: 0;max-width: 0;overflow: hidden;text-align: left;background-color: #f0f8ff;}#sk-container-id-3 div.sk-toggleable__content pre {margin: 0.2em;color: black;border-radius: 0.25em;background-color: #f0f8ff;}#sk-container-id-3 input.sk-toggleable__control:checked~div.sk-toggleable__content {max-height: 200px;max-width: 100%;overflow: auto;}#sk-container-id-3 input.sk-toggleable__control:checked~label.sk-toggleable__label-arrow:before {content: \"▾\";}#sk-container-id-3 div.sk-estimator input.sk-toggleable__control:checked~label.sk-toggleable__label {background-color: #d4ebff;}#sk-container-id-3 div.sk-label input.sk-toggleable__control:checked~label.sk-toggleable__label {background-color: #d4ebff;}#sk-container-id-3 input.sk-hidden--visually {border: 0;clip: rect(1px 1px 1px 1px);clip: rect(1px, 1px, 1px, 1px);height: 1px;margin: -1px;overflow: hidden;padding: 0;position: absolute;width: 1px;}#sk-container-id-3 div.sk-estimator {font-family: monospace;background-color: #f0f8ff;border: 1px dotted black;border-radius: 0.25em;box-sizing: border-box;margin-bottom: 0.5em;}#sk-container-id-3 div.sk-estimator:hover {background-color: #d4ebff;}#sk-container-id-3 div.sk-parallel-item::after {content: \"\";width: 100%;border-bottom: 1px solid gray;flex-grow: 1;}#sk-container-id-3 div.sk-label:hover label.sk-toggleable__label {background-color: #d4ebff;}#sk-container-id-3 div.sk-serial::before {content: \"\";position: absolute;border-left: 1px solid gray;box-sizing: border-box;top: 0;bottom: 0;left: 50%;z-index: 0;}#sk-container-id-3 div.sk-serial {display: flex;flex-direction: column;align-items: center;background-color: white;padding-right: 0.2em;padding-left: 0.2em;position: relative;}#sk-container-id-3 div.sk-item {position: relative;z-index: 1;}#sk-container-id-3 div.sk-parallel {display: flex;align-items: stretch;justify-content: center;background-color: white;position: relative;}#sk-container-id-3 div.sk-item::before, #sk-container-id-3 div.sk-parallel-item::before {content: \"\";position: absolute;border-left: 1px solid gray;box-sizing: border-box;top: 0;bottom: 0;left: 50%;z-index: -1;}#sk-container-id-3 div.sk-parallel-item {display: flex;flex-direction: column;z-index: 1;position: relative;background-color: white;}#sk-container-id-3 div.sk-parallel-item:first-child::after {align-self: flex-end;width: 50%;}#sk-container-id-3 div.sk-parallel-item:last-child::after {align-self: flex-start;width: 50%;}#sk-container-id-3 div.sk-parallel-item:only-child::after {width: 0;}#sk-container-id-3 div.sk-dashed-wrapped {border: 1px dashed gray;margin: 0 0.4em 0.5em 0.4em;box-sizing: border-box;padding-bottom: 0.4em;background-color: white;}#sk-container-id-3 div.sk-label label {font-family: monospace;font-weight: bold;display: inline-block;line-height: 1.2em;}#sk-container-id-3 div.sk-label-container {text-align: center;}#sk-container-id-3 div.sk-container {/* jupyter's `normalize.less` sets `[hidden] { display: none; }` but bootstrap.min.css set `[hidden] { display: none !important; }` so we also need the `!important` here to be able to override the default hidden behavior on the sphinx rendered scikit-learn.org. See: https://github.com/scikit-learn/scikit-learn/issues/21755 */display: inline-block !important;position: relative;}#sk-container-id-3 div.sk-text-repr-fallback {display: none;}</style><div id=\"sk-container-id-3\" class=\"sk-top-container\"><div class=\"sk-text-repr-fallback\"><pre>RandomForestClassifier(random_state=0)</pre><b>In a Jupyter environment, please rerun this cell to show the HTML representation or trust the notebook. <br />On GitHub, the HTML representation is unable to render, please try loading this page with nbviewer.org.</b></div><div class=\"sk-container\" hidden><div class=\"sk-item\"><div class=\"sk-estimator sk-toggleable\"><input class=\"sk-toggleable__control sk-hidden--visually\" id=\"sk-estimator-id-3\" type=\"checkbox\" checked><label for=\"sk-estimator-id-3\" class=\"sk-toggleable__label sk-toggleable__label-arrow\">RandomForestClassifier</label><div class=\"sk-toggleable__content\"><pre>RandomForestClassifier(random_state=0)</pre></div></div></div></div></div>"
      ],
      "text/plain": [
       "RandomForestClassifier(random_state=0)"
      ]
     },
     "execution_count": 53,
     "metadata": {},
     "output_type": "execute_result"
    }
   ],
   "source": [
    "# print(f\"Best state: {best_state}\")\n",
    "\n",
    "# ranom_state = best_state[0]\n",
    "ranom_state = 0\n",
    "\n",
    "X_train, X_test, Y_train, Y_test = train_test_split(\n",
    "    X, Y, test_size=0.2, random_state=ranom_state\n",
    ")\n",
    "forest = RandomForestClassifier(n_estimators=100, random_state=ranom_state)\n",
    "forest.fit(X_train, Y_train)\n"
   ]
  },
  {
   "cell_type": "code",
   "execution_count": 54,
   "metadata": {},
   "outputs": [
    {
     "data": {
      "text/plain": [
       "0.8845023870730812"
      ]
     },
     "execution_count": 54,
     "metadata": {},
     "output_type": "execute_result"
    }
   ],
   "source": [
    "# test the model & find r2 score\n",
    "# forest.score(X_test, Y_test)\n",
    "\n",
    "from sklearn.metrics import accuracy_score\n",
    "\n",
    "Y_pred = forest.predict(X_test)\n",
    "\n",
    "# Calculate the accuracy of the model\n",
    "accuracy = accuracy_score(Y_test, Y_pred)\n",
    "accuracy\n"
   ]
  },
  {
   "cell_type": "code",
   "execution_count": 29,
   "metadata": {},
   "outputs": [
    {
     "name": "stderr",
     "output_type": "stream",
     "text": [
      "/home/ubuntu/FDS/.venv/lib/python3.10/site-packages/sklearn/base.py:465: UserWarning: X does not have valid feature names, but RandomForestClassifier was fitted with feature names\n",
      "  warnings.warn(\n"
     ]
    },
    {
     "data": {
      "text/plain": [
       "array(['stackoverflow.com'], dtype='<U80')"
      ]
     },
     "execution_count": 29,
     "metadata": {},
     "output_type": "execute_result"
    }
   ],
   "source": [
    "hosts = [\"www.startpage.com\"]\n",
    "visits = []\n",
    "\n",
    "# predict the host from the hosts list\n",
    "from_hosts_encoded = full_encoder.transform(hosts)\n",
    "\n",
    "from_hosts_encoded = np.concatenate([visits, from_hosts_encoded], axis=0)\n",
    "from_hosts_encoded = from_hosts_encoded.reshape(1, -1)\n",
    "\n",
    "from_hosts_encoded\n",
    "\n",
    "val = forest.predict(from_hosts_encoded.reshape(1, -1))\n",
    "full_encoder.inverse_transform(val)\n",
    "\n",
    "\n",
    "# val = list(forest.predict(from_hosts_encoded.reshape(1, -1))[0])\n",
    "\n",
    "# val = [(index + 1, value) for index, value in enumerate(val)]\n",
    "\n",
    "# val.sort(key=lambda x: x[1], reverse=True)\n",
    "# val = val[:5]\n",
    "\n",
    "# res = [\n",
    "#     (full_encoder.inverse_transform(np.array([index])), value) for index, value in val\n",
    "# ]\n",
    "\n",
    "# res\n",
    "\n",
    "\n",
    "# sorted_probs = np.argsort(probs[0])[::-1][:5]\n",
    "# sorted_probs\n",
    "# res = full_encoder.inverse_transform(sorted_probs)\n",
    "\n",
    "# res\n"
   ]
  },
  {
   "cell_type": "code",
   "execution_count": 67,
   "metadata": {},
   "outputs": [
    {
     "ename": "ValueError",
     "evalue": "y contains previously unseen labels: 'bugzilla.mozilla.org'",
     "output_type": "error",
     "traceback": [
      "\u001b[0;31m---------------------------------------------------------------------------\u001b[0m",
      "\u001b[0;31mKeyError\u001b[0m                                  Traceback (most recent call last)",
      "File \u001b[0;32m~/FDS/.venv/lib/python3.10/site-packages/sklearn/utils/_encode.py:225\u001b[0m, in \u001b[0;36m_encode\u001b[0;34m(values, uniques, check_unknown)\u001b[0m\n\u001b[1;32m    224\u001b[0m \u001b[39mtry\u001b[39;00m:\n\u001b[0;32m--> 225\u001b[0m     \u001b[39mreturn\u001b[39;00m _map_to_integer(values, uniques)\n\u001b[1;32m    226\u001b[0m \u001b[39mexcept\u001b[39;00m \u001b[39mKeyError\u001b[39;00m \u001b[39mas\u001b[39;00m e:\n",
      "File \u001b[0;32m~/FDS/.venv/lib/python3.10/site-packages/sklearn/utils/_encode.py:165\u001b[0m, in \u001b[0;36m_map_to_integer\u001b[0;34m(values, uniques)\u001b[0m\n\u001b[1;32m    164\u001b[0m table \u001b[39m=\u001b[39m _nandict({val: i \u001b[39mfor\u001b[39;00m i, val \u001b[39min\u001b[39;00m \u001b[39menumerate\u001b[39m(uniques)})\n\u001b[0;32m--> 165\u001b[0m \u001b[39mreturn\u001b[39;00m np\u001b[39m.\u001b[39marray([table[v] \u001b[39mfor\u001b[39;00m v \u001b[39min\u001b[39;00m values])\n",
      "File \u001b[0;32m~/FDS/.venv/lib/python3.10/site-packages/sklearn/utils/_encode.py:165\u001b[0m, in \u001b[0;36m<listcomp>\u001b[0;34m(.0)\u001b[0m\n\u001b[1;32m    164\u001b[0m table \u001b[39m=\u001b[39m _nandict({val: i \u001b[39mfor\u001b[39;00m i, val \u001b[39min\u001b[39;00m \u001b[39menumerate\u001b[39m(uniques)})\n\u001b[0;32m--> 165\u001b[0m \u001b[39mreturn\u001b[39;00m np\u001b[39m.\u001b[39marray([table[v] \u001b[39mfor\u001b[39;00m v \u001b[39min\u001b[39;00m values])\n",
      "File \u001b[0;32m~/FDS/.venv/lib/python3.10/site-packages/sklearn/utils/_encode.py:159\u001b[0m, in \u001b[0;36m_nandict.__missing__\u001b[0;34m(self, key)\u001b[0m\n\u001b[1;32m    158\u001b[0m     \u001b[39mreturn\u001b[39;00m \u001b[39mself\u001b[39m\u001b[39m.\u001b[39mnan_value\n\u001b[0;32m--> 159\u001b[0m \u001b[39mraise\u001b[39;00m \u001b[39mKeyError\u001b[39;00m(key)\n",
      "\u001b[0;31mKeyError\u001b[0m: 'bugzilla.mozilla.org'",
      "\nDuring handling of the above exception, another exception occurred:\n",
      "\u001b[0;31mValueError\u001b[0m                                Traceback (most recent call last)",
      "\u001b[1;32m/home/ubuntu/FDS/Project/Final/nb_copy.ipynb Cell 27\u001b[0m line \u001b[0;36m5\n\u001b[1;32m      <a href='vscode-notebook-cell://ssh-remote%2Bcode2/home/ubuntu/FDS/Project/Final/nb_copy.ipynb#X35sdnNjb2RlLXJlbW90ZQ%3D%3D?line=2'>3</a>\u001b[0m label_encoder \u001b[39m=\u001b[39m LabelEncoder()\n\u001b[1;32m      <a href='vscode-notebook-cell://ssh-remote%2Bcode2/home/ubuntu/FDS/Project/Final/nb_copy.ipynb#X35sdnNjb2RlLXJlbW90ZQ%3D%3D?line=3'>4</a>\u001b[0m data_2[\u001b[39m\"\u001b[39m\u001b[39mfrom_host_encoded\u001b[39m\u001b[39m\"\u001b[39m] \u001b[39m=\u001b[39m label_encoder\u001b[39m.\u001b[39mfit_transform(data_2[\u001b[39m\"\u001b[39m\u001b[39mfrom_host\u001b[39m\u001b[39m\"\u001b[39m])\n\u001b[0;32m----> <a href='vscode-notebook-cell://ssh-remote%2Bcode2/home/ubuntu/FDS/Project/Final/nb_copy.ipynb#X35sdnNjb2RlLXJlbW90ZQ%3D%3D?line=4'>5</a>\u001b[0m data_2[\u001b[39m\"\u001b[39m\u001b[39mhost_encoded\u001b[39m\u001b[39m\"\u001b[39m] \u001b[39m=\u001b[39m label_encoder\u001b[39m.\u001b[39;49mtransform(data_2[\u001b[39m\"\u001b[39;49m\u001b[39mhost\u001b[39;49m\u001b[39m\"\u001b[39;49m])\n\u001b[1;32m      <a href='vscode-notebook-cell://ssh-remote%2Bcode2/home/ubuntu/FDS/Project/Final/nb_copy.ipynb#X35sdnNjb2RlLXJlbW90ZQ%3D%3D?line=6'>7</a>\u001b[0m \u001b[39m# Define the features and target variable\u001b[39;00m\n\u001b[1;32m      <a href='vscode-notebook-cell://ssh-remote%2Bcode2/home/ubuntu/FDS/Project/Final/nb_copy.ipynb#X35sdnNjb2RlLXJlbW90ZQ%3D%3D?line=7'>8</a>\u001b[0m X \u001b[39m=\u001b[39m data_2[[\u001b[39m\"\u001b[39m\u001b[39mfrom_host_encoded\u001b[39m\u001b[39m\"\u001b[39m]]\n",
      "File \u001b[0;32m~/FDS/.venv/lib/python3.10/site-packages/sklearn/preprocessing/_label.py:137\u001b[0m, in \u001b[0;36mLabelEncoder.transform\u001b[0;34m(self, y)\u001b[0m\n\u001b[1;32m    134\u001b[0m \u001b[39mif\u001b[39;00m _num_samples(y) \u001b[39m==\u001b[39m \u001b[39m0\u001b[39m:\n\u001b[1;32m    135\u001b[0m     \u001b[39mreturn\u001b[39;00m np\u001b[39m.\u001b[39marray([])\n\u001b[0;32m--> 137\u001b[0m \u001b[39mreturn\u001b[39;00m _encode(y, uniques\u001b[39m=\u001b[39;49m\u001b[39mself\u001b[39;49m\u001b[39m.\u001b[39;49mclasses_)\n",
      "File \u001b[0;32m~/FDS/.venv/lib/python3.10/site-packages/sklearn/utils/_encode.py:227\u001b[0m, in \u001b[0;36m_encode\u001b[0;34m(values, uniques, check_unknown)\u001b[0m\n\u001b[1;32m    225\u001b[0m         \u001b[39mreturn\u001b[39;00m _map_to_integer(values, uniques)\n\u001b[1;32m    226\u001b[0m     \u001b[39mexcept\u001b[39;00m \u001b[39mKeyError\u001b[39;00m \u001b[39mas\u001b[39;00m e:\n\u001b[0;32m--> 227\u001b[0m         \u001b[39mraise\u001b[39;00m \u001b[39mValueError\u001b[39;00m(\u001b[39mf\u001b[39m\u001b[39m\"\u001b[39m\u001b[39my contains previously unseen labels: \u001b[39m\u001b[39m{\u001b[39;00m\u001b[39mstr\u001b[39m(e)\u001b[39m}\u001b[39;00m\u001b[39m\"\u001b[39m)\n\u001b[1;32m    228\u001b[0m \u001b[39melse\u001b[39;00m:\n\u001b[1;32m    229\u001b[0m     \u001b[39mif\u001b[39;00m check_unknown:\n",
      "\u001b[0;31mValueError\u001b[0m: y contains previously unseen labels: 'bugzilla.mozilla.org'"
     ]
    }
   ],
   "source": [
    "# Assuming 'data_2' is your dataframe\n",
    "# Encode the host names to numerical values\n",
    "label_encoder = LabelEncoder()\n",
    "data_2[\"from_host_encoded\"] = label_encoder.fit_transform(data_2[\"from_host\"])\n",
    "data_2[\"host_encoded\"] = label_encoder.transform(data_2[\"host\"])\n",
    "\n",
    "# Define the features and target variable\n",
    "X = data_2[[\"from_host_encoded\"]]\n",
    "y = data_2[\"host_encoded\"]\n",
    "\n",
    "# Split the data into training and test sets\n",
    "X_train, X_test, y_train, y_test = train_test_split(\n",
    "    X, y, test_size=0.2, random_state=42\n",
    ")\n",
    "\n",
    "# Ensure that all labels in the test set are present in the training set\n",
    "unseen_labels = set(y_test) - set(y_train)\n",
    "X_test = X_test[~y_test.isin(unseen_labels)]\n",
    "y_test = y_test[~y_test.isin(unseen_labels)]\n",
    "\n",
    "# Create and train the Random Forest classifier\n",
    "clf = RandomForestClassifier(n_estimators=100, random_state=42)\n",
    "clf.fit(X_train, y_train)\n",
    "\n",
    "# Predict the top 5 most probable hosts\n",
    "input_host_encoded = label_encoder.transform(\n",
    "    [\"www.youtube.com\"]\n",
    ")  # Encode the input host\n",
    "probs = clf.predict_proba(input_host_encoded.reshape(1, -1))\n",
    "top5_indices = np.argsort(probs[0])[::-1][\n",
    "    :5\n",
    "]  # Get the indices of the top 5 probabilities\n",
    "\n",
    "# Get the actual host names from the indices\n",
    "top5_hosts = label_encoder.inverse_transform(top5_indices)\n",
    "print(\"Top 5 most probable hosts to be visited:\", top5_hosts)\n"
   ]
  }
 ],
 "metadata": {
  "kernelspec": {
   "display_name": ".venv",
   "language": "python",
   "name": "python3"
  },
  "language_info": {
   "codemirror_mode": {
    "name": "ipython",
    "version": 3
   },
   "file_extension": ".py",
   "mimetype": "text/x-python",
   "name": "python",
   "nbconvert_exporter": "python",
   "pygments_lexer": "ipython3",
   "version": "3.10.12"
  }
 },
 "nbformat": 4,
 "nbformat_minor": 2
}
