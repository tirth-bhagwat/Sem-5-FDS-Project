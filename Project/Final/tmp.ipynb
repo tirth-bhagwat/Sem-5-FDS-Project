{
 "cells": [
  {
   "cell_type": "code",
   "execution_count": 1,
   "metadata": {},
   "outputs": [
    {
     "data": {
      "text/plain": [
       "id            27911\n",
       "url           27911\n",
       "visit_date    27911\n",
       "from_visit    27911\n",
       "from_url      27911\n",
       "dtype: int64"
      ]
     },
     "execution_count": 1,
     "metadata": {},
     "output_type": "execute_result"
    }
   ],
   "source": [
    "import sqlite3\n",
    "import pandas as pd\n",
    "\n",
    "\n",
    "conn = sqlite3.connect(\"../../places.sqlite\")\n",
    "\n",
    "full_data = pd.read_sql_query(\n",
    "    \"\"\"\n",
    "\n",
    "SELECT\n",
    "\tmoz_historyvisits.id,\n",
    "\tmoz_places.url as url,\n",
    "\tmoz_historyvisits.'visit_date' as 'visit_date',\n",
    "\tmoz_historyvisits.from_visit as from_visit,\n",
    "\tt2.url as from_url\n",
    "from\n",
    "\tmoz_historyvisits\n",
    "join moz_places on\n",
    "\tmoz_places.id = moz_historyvisits.place_id\n",
    "\n",
    "join (\n",
    "\tSELECT\n",
    "\t\tmoz_historyvisits.id,\n",
    "\t\tmoz_places.url as url\n",
    "\tfrom\n",
    "\t\tmoz_historyvisits\n",
    "\tjoin moz_places on\n",
    "\t\tmoz_places.id = moz_historyvisits.place_id\n",
    "  ) as t2 on\n",
    "\tt2.id = moz_historyvisits.from_visit;\n",
    "\n",
    "\n",
    "\n",
    "\n",
    "    \n",
    "\"\"\",\n",
    "    conn,\n",
    ")\n",
    "\n",
    "\n",
    "full_data.count()\n",
    "\n",
    "# 68439\n",
    "# 27911\n",
    "# 40528\n"
   ]
  }
 ],
 "metadata": {
  "kernelspec": {
   "display_name": ".venv",
   "language": "python",
   "name": "python3"
  },
  "language_info": {
   "codemirror_mode": {
    "name": "ipython",
    "version": 3
   },
   "file_extension": ".py",
   "mimetype": "text/x-python",
   "name": "python",
   "nbconvert_exporter": "python",
   "pygments_lexer": "ipython3",
   "version": "3.10.12"
  }
 },
 "nbformat": 4,
 "nbformat_minor": 2
}
