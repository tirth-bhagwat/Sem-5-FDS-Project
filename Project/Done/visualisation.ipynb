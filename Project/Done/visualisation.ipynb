{
 "cells": [
  {
   "cell_type": "code",
   "execution_count": 64,
   "metadata": {},
   "outputs": [],
   "source": [
    "import sqlite3\n",
    "import pandas as pd\n",
    "import seaborn as sns\n",
    "from matplotlib import pyplot as plt\n",
    "import numpy as np\n"
   ]
  },
  {
   "cell_type": "code",
   "execution_count": 65,
   "metadata": {},
   "outputs": [],
   "source": [
    "conn = sqlite3.connect(\"../../places.sqlite\")\n",
    "\n",
    "full_data = pd.read_sql_query(\n",
    "    \"\"\"\n",
    "SELECT \n",
    "\tmoz_places.url as url,\n",
    "    moz_historyvisits.'visit_date' as 'visit_date'\n",
    "from moz_historyvisits\n",
    "    join moz_places on moz_places.id = moz_historyvisits.place_id;\n",
    "    \n",
    "\"\"\",\n",
    "    conn,\n",
    ")\n",
    "\n",
    "# conn = sqlite3.connect(\"../../history.sqlite\")\n",
    "\n",
    "# full_data = pd.read_sql_query(\n",
    "#     \"\"\"\n",
    "# select\n",
    "#   urls.url as url,\n",
    "#   visits.visit_time as visit_date\n",
    "# from\n",
    "#   visits\n",
    "#   join urls on urls.id = visits.url;\n",
    "\n",
    "# \"\"\",\n",
    "#     conn,\n",
    "# )\n"
   ]
  },
  {
   "cell_type": "code",
   "execution_count": 66,
   "metadata": {},
   "outputs": [
    {
     "data": {
      "text/html": [
       "<div>\n",
       "<style scoped>\n",
       "    .dataframe tbody tr th:only-of-type {\n",
       "        vertical-align: middle;\n",
       "    }\n",
       "\n",
       "    .dataframe tbody tr th {\n",
       "        vertical-align: top;\n",
       "    }\n",
       "\n",
       "    .dataframe thead th {\n",
       "        text-align: right;\n",
       "    }\n",
       "</style>\n",
       "<table border=\"1\" class=\"dataframe\">\n",
       "  <thead>\n",
       "    <tr style=\"text-align: right;\">\n",
       "      <th></th>\n",
       "      <th>url</th>\n",
       "      <th>visit_date</th>\n",
       "    </tr>\n",
       "  </thead>\n",
       "  <tbody>\n",
       "    <tr>\n",
       "      <th>0</th>\n",
       "      <td>https://spins.fedoraproject.org/</td>\n",
       "      <td>1652190849558000</td>\n",
       "    </tr>\n",
       "    <tr>\n",
       "      <th>1</th>\n",
       "      <td>https://spins.fedoraproject.org/</td>\n",
       "      <td>1654098416035000</td>\n",
       "    </tr>\n",
       "    <tr>\n",
       "      <th>2</th>\n",
       "      <td>https://spins.fedoraproject.org/</td>\n",
       "      <td>1656856015277000</td>\n",
       "    </tr>\n",
       "    <tr>\n",
       "      <th>3</th>\n",
       "      <td>https://spins.fedoraproject.org/</td>\n",
       "      <td>1666263920924000</td>\n",
       "    </tr>\n",
       "    <tr>\n",
       "      <th>4</th>\n",
       "      <td>https://spins.fedoraproject.org/</td>\n",
       "      <td>1668600233996000</td>\n",
       "    </tr>\n",
       "  </tbody>\n",
       "</table>\n",
       "</div>"
      ],
      "text/plain": [
       "                                url        visit_date\n",
       "0  https://spins.fedoraproject.org/  1652190849558000\n",
       "1  https://spins.fedoraproject.org/  1654098416035000\n",
       "2  https://spins.fedoraproject.org/  1656856015277000\n",
       "3  https://spins.fedoraproject.org/  1666263920924000\n",
       "4  https://spins.fedoraproject.org/  1668600233996000"
      ]
     },
     "execution_count": 66,
     "metadata": {},
     "output_type": "execute_result"
    }
   ],
   "source": [
    "full_data.head()\n"
   ]
  },
  {
   "cell_type": "code",
   "execution_count": 67,
   "metadata": {},
   "outputs": [
    {
     "data": {
      "text/plain": [
       "2229"
      ]
     },
     "execution_count": 67,
     "metadata": {},
     "output_type": "execute_result"
    }
   ],
   "source": [
    "import csv\n",
    "import re\n",
    "\n",
    "full_data[\"host\"] = full_data[\"url\"].map(\n",
    "    lambda x: re.match(r\"https?:\\/\\/(([^/]+\\.)+[^/]+)\", x).group(1)\n",
    "    if re.match(r\"https?:\\/\\/(([^/]+\\.)+[^/]+)\", x) is not None\n",
    "    else pd.NA\n",
    ")\n",
    "\n",
    "\n",
    "full_data.to_csv(\"full_data.csv\", index=False, quoting=csv.QUOTE_ALL)\n",
    "full_data[\"host\"].isna().sum()\n"
   ]
  },
  {
   "cell_type": "code",
   "execution_count": 68,
   "metadata": {},
   "outputs": [],
   "source": [
    "from datetime import datetime\n",
    "\n",
    "full_data[\"visit_date_obj\"] = full_data[\"visit_date\"].map(\n",
    "    lambda x: datetime.fromtimestamp(x / 1000000)\n",
    ")\n"
   ]
  },
  {
   "cell_type": "code",
   "execution_count": 69,
   "metadata": {},
   "outputs": [
    {
     "name": "stdout",
     "output_type": "stream",
     "text": [
      "<class 'pandas.core.frame.DataFrame'>\n",
      "RangeIndex: 66210 entries, 0 to 66209\n",
      "Data columns (total 4 columns):\n",
      " #   Column          Non-Null Count  Dtype         \n",
      "---  ------          --------------  -----         \n",
      " 0   visit_date      66210 non-null  int64         \n",
      " 1   host            66210 non-null  object        \n",
      " 2   visit_date_obj  66210 non-null  datetime64[ns]\n",
      " 3   visit_count     66210 non-null  int64         \n",
      "dtypes: datetime64[ns](1), int64(2), object(1)\n",
      "memory usage: 2.0+ MB\n"
     ]
    }
   ],
   "source": [
    "full_data.drop(\"url\", axis=1, inplace=True)\n",
    "full_data[\"visit_count\"] = 1\n",
    "\n",
    "full_data.dropna(axis=0, how=\"any\", inplace=True)\n",
    "full_data.reset_index(inplace=True, drop=True)\n",
    "\n",
    "full_data.info()\n"
   ]
  },
  {
   "cell_type": "code",
   "execution_count": 70,
   "metadata": {},
   "outputs": [
    {
     "data": {
      "text/html": [
       "<div>\n",
       "<style scoped>\n",
       "    .dataframe tbody tr th:only-of-type {\n",
       "        vertical-align: middle;\n",
       "    }\n",
       "\n",
       "    .dataframe tbody tr th {\n",
       "        vertical-align: top;\n",
       "    }\n",
       "\n",
       "    .dataframe thead th {\n",
       "        text-align: right;\n",
       "    }\n",
       "</style>\n",
       "<table border=\"1\" class=\"dataframe\">\n",
       "  <thead>\n",
       "    <tr style=\"text-align: right;\">\n",
       "      <th></th>\n",
       "      <th>visit_date</th>\n",
       "      <th>host</th>\n",
       "      <th>visit_date_obj</th>\n",
       "      <th>visit_count</th>\n",
       "    </tr>\n",
       "  </thead>\n",
       "  <tbody>\n",
       "    <tr>\n",
       "      <th>0</th>\n",
       "      <td>1652190849558000</td>\n",
       "      <td>spins.fedoraproject.org</td>\n",
       "      <td>2022-05-10 13:54:09.558</td>\n",
       "      <td>1</td>\n",
       "    </tr>\n",
       "    <tr>\n",
       "      <th>1</th>\n",
       "      <td>1654098416035000</td>\n",
       "      <td>spins.fedoraproject.org</td>\n",
       "      <td>2022-06-01 15:46:56.035</td>\n",
       "      <td>1</td>\n",
       "    </tr>\n",
       "    <tr>\n",
       "      <th>2</th>\n",
       "      <td>1656856015277000</td>\n",
       "      <td>spins.fedoraproject.org</td>\n",
       "      <td>2022-07-03 13:46:55.277</td>\n",
       "      <td>1</td>\n",
       "    </tr>\n",
       "    <tr>\n",
       "      <th>3</th>\n",
       "      <td>1666263920924000</td>\n",
       "      <td>spins.fedoraproject.org</td>\n",
       "      <td>2022-10-20 11:05:20.924</td>\n",
       "      <td>1</td>\n",
       "    </tr>\n",
       "    <tr>\n",
       "      <th>4</th>\n",
       "      <td>1668600233996000</td>\n",
       "      <td>spins.fedoraproject.org</td>\n",
       "      <td>2022-11-16 12:03:53.996</td>\n",
       "      <td>1</td>\n",
       "    </tr>\n",
       "  </tbody>\n",
       "</table>\n",
       "</div>"
      ],
      "text/plain": [
       "         visit_date                     host          visit_date_obj  \\\n",
       "0  1652190849558000  spins.fedoraproject.org 2022-05-10 13:54:09.558   \n",
       "1  1654098416035000  spins.fedoraproject.org 2022-06-01 15:46:56.035   \n",
       "2  1656856015277000  spins.fedoraproject.org 2022-07-03 13:46:55.277   \n",
       "3  1666263920924000  spins.fedoraproject.org 2022-10-20 11:05:20.924   \n",
       "4  1668600233996000  spins.fedoraproject.org 2022-11-16 12:03:53.996   \n",
       "\n",
       "   visit_count  \n",
       "0            1  \n",
       "1            1  \n",
       "2            1  \n",
       "3            1  \n",
       "4            1  "
      ]
     },
     "execution_count": 70,
     "metadata": {},
     "output_type": "execute_result"
    }
   ],
   "source": [
    "full_data.head()\n"
   ]
  },
  {
   "cell_type": "code",
   "execution_count": 10,
   "metadata": {},
   "outputs": [
    {
     "ename": "AttributeError",
     "evalue": "Can only use .dt accessor with datetimelike values",
     "output_type": "error",
     "traceback": [
      "\u001b[0;31m---------------------------------------------------------------------------\u001b[0m",
      "\u001b[0;31mAttributeError\u001b[0m                            Traceback (most recent call last)",
      "\u001b[1;32m/home/ubuntu/FDS/Project/Done/visualisation.ipynb Cell 8\u001b[0m line \u001b[0;36m1\n\u001b[1;32m     <a href='vscode-notebook-cell://ssh-remote%2Bcode2/home/ubuntu/FDS/Project/Done/visualisation.ipynb#X10sdnNjb2RlLXJlbW90ZQ%3D%3D?line=9'>10</a>\u001b[0m modified_data[\u001b[39m\"\u001b[39m\u001b[39mhost\u001b[39m\u001b[39m\"\u001b[39m] \u001b[39m=\u001b[39m full_data[\u001b[39m\"\u001b[39m\u001b[39mhost\u001b[39m\u001b[39m\"\u001b[39m]\u001b[39m.\u001b[39munique()\n\u001b[1;32m     <a href='vscode-notebook-cell://ssh-remote%2Bcode2/home/ubuntu/FDS/Project/Done/visualisation.ipynb#X10sdnNjb2RlLXJlbW90ZQ%3D%3D?line=11'>12</a>\u001b[0m \u001b[39mfor\u001b[39;00m time_frame, (start, end) \u001b[39min\u001b[39;00m time_frames\u001b[39m.\u001b[39mitems():\n\u001b[1;32m     <a href='vscode-notebook-cell://ssh-remote%2Bcode2/home/ubuntu/FDS/Project/Done/visualisation.ipynb#X10sdnNjb2RlLXJlbW90ZQ%3D%3D?line=12'>13</a>\u001b[0m     modified_data \u001b[39m=\u001b[39m modified_data\u001b[39m.\u001b[39mmerge(\n\u001b[1;32m     <a href='vscode-notebook-cell://ssh-remote%2Bcode2/home/ubuntu/FDS/Project/Done/visualisation.ipynb#X10sdnNjb2RlLXJlbW90ZQ%3D%3D?line=13'>14</a>\u001b[0m         full_data[\n\u001b[1;32m     <a href='vscode-notebook-cell://ssh-remote%2Bcode2/home/ubuntu/FDS/Project/Done/visualisation.ipynb#X10sdnNjb2RlLXJlbW90ZQ%3D%3D?line=14'>15</a>\u001b[0m             (\n\u001b[0;32m---> <a href='vscode-notebook-cell://ssh-remote%2Bcode2/home/ubuntu/FDS/Project/Done/visualisation.ipynb#X10sdnNjb2RlLXJlbW90ZQ%3D%3D?line=15'>16</a>\u001b[0m                 (full_data[\u001b[39m\"\u001b[39;49m\u001b[39mvisit_date_obj\u001b[39;49m\u001b[39m\"\u001b[39;49m]\u001b[39m.\u001b[39;49mdt\u001b[39m.\u001b[39mhour \u001b[39m>\u001b[39m\u001b[39m=\u001b[39m start)\n\u001b[1;32m     <a href='vscode-notebook-cell://ssh-remote%2Bcode2/home/ubuntu/FDS/Project/Done/visualisation.ipynb#X10sdnNjb2RlLXJlbW90ZQ%3D%3D?line=16'>17</a>\u001b[0m                 \u001b[39m&\u001b[39m (full_data[\u001b[39m\"\u001b[39m\u001b[39mvisit_date_obj\u001b[39m\u001b[39m\"\u001b[39m]\u001b[39m.\u001b[39mdt\u001b[39m.\u001b[39mhour \u001b[39m<\u001b[39m end)\n\u001b[1;32m     <a href='vscode-notebook-cell://ssh-remote%2Bcode2/home/ubuntu/FDS/Project/Done/visualisation.ipynb#X10sdnNjb2RlLXJlbW90ZQ%3D%3D?line=17'>18</a>\u001b[0m             )\n\u001b[1;32m     <a href='vscode-notebook-cell://ssh-remote%2Bcode2/home/ubuntu/FDS/Project/Done/visualisation.ipynb#X10sdnNjb2RlLXJlbW90ZQ%3D%3D?line=18'>19</a>\u001b[0m         ]\n\u001b[1;32m     <a href='vscode-notebook-cell://ssh-remote%2Bcode2/home/ubuntu/FDS/Project/Done/visualisation.ipynb#X10sdnNjb2RlLXJlbW90ZQ%3D%3D?line=19'>20</a>\u001b[0m         \u001b[39m.\u001b[39mgroupby(\u001b[39m\"\u001b[39m\u001b[39mhost\u001b[39m\u001b[39m\"\u001b[39m)\n\u001b[1;32m     <a href='vscode-notebook-cell://ssh-remote%2Bcode2/home/ubuntu/FDS/Project/Done/visualisation.ipynb#X10sdnNjb2RlLXJlbW90ZQ%3D%3D?line=20'>21</a>\u001b[0m         \u001b[39m.\u001b[39magg({\u001b[39m\"\u001b[39m\u001b[39mvisit_count\u001b[39m\u001b[39m\"\u001b[39m: \u001b[39m\"\u001b[39m\u001b[39msum\u001b[39m\u001b[39m\"\u001b[39m})\n\u001b[1;32m     <a href='vscode-notebook-cell://ssh-remote%2Bcode2/home/ubuntu/FDS/Project/Done/visualisation.ipynb#X10sdnNjb2RlLXJlbW90ZQ%3D%3D?line=21'>22</a>\u001b[0m         \u001b[39m.\u001b[39mrename(columns\u001b[39m=\u001b[39m{\u001b[39m\"\u001b[39m\u001b[39mvisit_count\u001b[39m\u001b[39m\"\u001b[39m: \u001b[39mf\u001b[39m\u001b[39m\"\u001b[39m\u001b[39mvisits_\u001b[39m\u001b[39m{\u001b[39;00mtime_frame\u001b[39m}\u001b[39;00m\u001b[39m\"\u001b[39m})\n\u001b[1;32m     <a href='vscode-notebook-cell://ssh-remote%2Bcode2/home/ubuntu/FDS/Project/Done/visualisation.ipynb#X10sdnNjb2RlLXJlbW90ZQ%3D%3D?line=22'>23</a>\u001b[0m         \u001b[39m.\u001b[39mastype({\u001b[39mf\u001b[39m\u001b[39m\"\u001b[39m\u001b[39mvisits_\u001b[39m\u001b[39m{\u001b[39;00mtime_frame\u001b[39m}\u001b[39;00m\u001b[39m\"\u001b[39m: pd\u001b[39m.\u001b[39mInt64Dtype()})\n\u001b[1;32m     <a href='vscode-notebook-cell://ssh-remote%2Bcode2/home/ubuntu/FDS/Project/Done/visualisation.ipynb#X10sdnNjb2RlLXJlbW90ZQ%3D%3D?line=23'>24</a>\u001b[0m         \u001b[39m.\u001b[39mreset_index(),\n\u001b[1;32m     <a href='vscode-notebook-cell://ssh-remote%2Bcode2/home/ubuntu/FDS/Project/Done/visualisation.ipynb#X10sdnNjb2RlLXJlbW90ZQ%3D%3D?line=24'>25</a>\u001b[0m         on\u001b[39m=\u001b[39m\u001b[39m\"\u001b[39m\u001b[39mhost\u001b[39m\u001b[39m\"\u001b[39m,\n\u001b[1;32m     <a href='vscode-notebook-cell://ssh-remote%2Bcode2/home/ubuntu/FDS/Project/Done/visualisation.ipynb#X10sdnNjb2RlLXJlbW90ZQ%3D%3D?line=25'>26</a>\u001b[0m         how\u001b[39m=\u001b[39m\u001b[39m\"\u001b[39m\u001b[39mleft\u001b[39m\u001b[39m\"\u001b[39m,\n\u001b[1;32m     <a href='vscode-notebook-cell://ssh-remote%2Bcode2/home/ubuntu/FDS/Project/Done/visualisation.ipynb#X10sdnNjb2RlLXJlbW90ZQ%3D%3D?line=26'>27</a>\u001b[0m     )\n\u001b[1;32m     <a href='vscode-notebook-cell://ssh-remote%2Bcode2/home/ubuntu/FDS/Project/Done/visualisation.ipynb#X10sdnNjb2RlLXJlbW90ZQ%3D%3D?line=28'>29</a>\u001b[0m modified_data \u001b[39m=\u001b[39m modified_data\u001b[39m.\u001b[39mmerge(\n\u001b[1;32m     <a href='vscode-notebook-cell://ssh-remote%2Bcode2/home/ubuntu/FDS/Project/Done/visualisation.ipynb#X10sdnNjb2RlLXJlbW90ZQ%3D%3D?line=29'>30</a>\u001b[0m     full_data[\n\u001b[1;32m     <a href='vscode-notebook-cell://ssh-remote%2Bcode2/home/ubuntu/FDS/Project/Done/visualisation.ipynb#X10sdnNjb2RlLXJlbW90ZQ%3D%3D?line=30'>31</a>\u001b[0m         (\n\u001b[0;32m   (...)\u001b[0m\n\u001b[1;32m     <a href='vscode-notebook-cell://ssh-remote%2Bcode2/home/ubuntu/FDS/Project/Done/visualisation.ipynb#X10sdnNjb2RlLXJlbW90ZQ%3D%3D?line=41'>42</a>\u001b[0m     how\u001b[39m=\u001b[39m\u001b[39m\"\u001b[39m\u001b[39mleft\u001b[39m\u001b[39m\"\u001b[39m,\n\u001b[1;32m     <a href='vscode-notebook-cell://ssh-remote%2Bcode2/home/ubuntu/FDS/Project/Done/visualisation.ipynb#X10sdnNjb2RlLXJlbW90ZQ%3D%3D?line=42'>43</a>\u001b[0m )\n\u001b[1;32m     <a href='vscode-notebook-cell://ssh-remote%2Bcode2/home/ubuntu/FDS/Project/Done/visualisation.ipynb#X10sdnNjb2RlLXJlbW90ZQ%3D%3D?line=44'>45</a>\u001b[0m modified_data[\u001b[39m\"\u001b[39m\u001b[39mtotal_visits\u001b[39m\u001b[39m\"\u001b[39m] \u001b[39m=\u001b[39m modified_data[\n\u001b[1;32m     <a href='vscode-notebook-cell://ssh-remote%2Bcode2/home/ubuntu/FDS/Project/Done/visualisation.ipynb#X10sdnNjb2RlLXJlbW90ZQ%3D%3D?line=45'>46</a>\u001b[0m     [\u001b[39m\"\u001b[39m\u001b[39mvisits_morning\u001b[39m\u001b[39m\"\u001b[39m, \u001b[39m\"\u001b[39m\u001b[39mvisits_afternoon\u001b[39m\u001b[39m\"\u001b[39m, \u001b[39m\"\u001b[39m\u001b[39mvisits_evening\u001b[39m\u001b[39m\"\u001b[39m, \u001b[39m\"\u001b[39m\u001b[39mvisits_night\u001b[39m\u001b[39m\"\u001b[39m]\n\u001b[1;32m     <a href='vscode-notebook-cell://ssh-remote%2Bcode2/home/ubuntu/FDS/Project/Done/visualisation.ipynb#X10sdnNjb2RlLXJlbW90ZQ%3D%3D?line=46'>47</a>\u001b[0m ]\u001b[39m.\u001b[39msum(axis\u001b[39m=\u001b[39m\u001b[39m1\u001b[39m)\n",
      "File \u001b[0;32m~/FDS/.venv/lib/python3.10/site-packages/pandas/core/generic.py:5989\u001b[0m, in \u001b[0;36mNDFrame.__getattr__\u001b[0;34m(self, name)\u001b[0m\n\u001b[1;32m   5982\u001b[0m \u001b[39mif\u001b[39;00m (\n\u001b[1;32m   5983\u001b[0m     name \u001b[39mnot\u001b[39;00m \u001b[39min\u001b[39;00m \u001b[39mself\u001b[39m\u001b[39m.\u001b[39m_internal_names_set\n\u001b[1;32m   5984\u001b[0m     \u001b[39mand\u001b[39;00m name \u001b[39mnot\u001b[39;00m \u001b[39min\u001b[39;00m \u001b[39mself\u001b[39m\u001b[39m.\u001b[39m_metadata\n\u001b[1;32m   5985\u001b[0m     \u001b[39mand\u001b[39;00m name \u001b[39mnot\u001b[39;00m \u001b[39min\u001b[39;00m \u001b[39mself\u001b[39m\u001b[39m.\u001b[39m_accessors\n\u001b[1;32m   5986\u001b[0m     \u001b[39mand\u001b[39;00m \u001b[39mself\u001b[39m\u001b[39m.\u001b[39m_info_axis\u001b[39m.\u001b[39m_can_hold_identifiers_and_holds_name(name)\n\u001b[1;32m   5987\u001b[0m ):\n\u001b[1;32m   5988\u001b[0m     \u001b[39mreturn\u001b[39;00m \u001b[39mself\u001b[39m[name]\n\u001b[0;32m-> 5989\u001b[0m \u001b[39mreturn\u001b[39;00m \u001b[39mobject\u001b[39;49m\u001b[39m.\u001b[39;49m\u001b[39m__getattribute__\u001b[39;49m(\u001b[39mself\u001b[39;49m, name)\n",
      "File \u001b[0;32m~/FDS/.venv/lib/python3.10/site-packages/pandas/core/accessor.py:224\u001b[0m, in \u001b[0;36mCachedAccessor.__get__\u001b[0;34m(self, obj, cls)\u001b[0m\n\u001b[1;32m    221\u001b[0m \u001b[39mif\u001b[39;00m obj \u001b[39mis\u001b[39;00m \u001b[39mNone\u001b[39;00m:\n\u001b[1;32m    222\u001b[0m     \u001b[39m# we're accessing the attribute of the class, i.e., Dataset.geo\u001b[39;00m\n\u001b[1;32m    223\u001b[0m     \u001b[39mreturn\u001b[39;00m \u001b[39mself\u001b[39m\u001b[39m.\u001b[39m_accessor\n\u001b[0;32m--> 224\u001b[0m accessor_obj \u001b[39m=\u001b[39m \u001b[39mself\u001b[39;49m\u001b[39m.\u001b[39;49m_accessor(obj)\n\u001b[1;32m    225\u001b[0m \u001b[39m# Replace the property with the accessor object. Inspired by:\u001b[39;00m\n\u001b[1;32m    226\u001b[0m \u001b[39m# https://www.pydanny.com/cached-property.html\u001b[39;00m\n\u001b[1;32m    227\u001b[0m \u001b[39m# We need to use object.__setattr__ because we overwrite __setattr__ on\u001b[39;00m\n\u001b[1;32m    228\u001b[0m \u001b[39m# NDFrame\u001b[39;00m\n\u001b[1;32m    229\u001b[0m \u001b[39mobject\u001b[39m\u001b[39m.\u001b[39m\u001b[39m__setattr__\u001b[39m(obj, \u001b[39mself\u001b[39m\u001b[39m.\u001b[39m_name, accessor_obj)\n",
      "File \u001b[0;32m~/FDS/.venv/lib/python3.10/site-packages/pandas/core/indexes/accessors.py:580\u001b[0m, in \u001b[0;36mCombinedDatetimelikeProperties.__new__\u001b[0;34m(cls, data)\u001b[0m\n\u001b[1;32m    577\u001b[0m \u001b[39melif\u001b[39;00m is_period_dtype(data\u001b[39m.\u001b[39mdtype):\n\u001b[1;32m    578\u001b[0m     \u001b[39mreturn\u001b[39;00m PeriodProperties(data, orig)\n\u001b[0;32m--> 580\u001b[0m \u001b[39mraise\u001b[39;00m \u001b[39mAttributeError\u001b[39;00m(\u001b[39m\"\u001b[39m\u001b[39mCan only use .dt accessor with datetimelike values\u001b[39m\u001b[39m\"\u001b[39m)\n",
      "\u001b[0;31mAttributeError\u001b[0m: Can only use .dt accessor with datetimelike values"
     ]
    }
   ],
   "source": [
    "time_frames = {\n",
    "    \"morning\": (5, 11),\n",
    "    \"afternoon\": (11, 17),\n",
    "    \"evening\": (17, 23),\n",
    "    # \"night\": (23, 5),\n",
    "}\n",
    "\n",
    "modified_data = pd.DataFrame()\n",
    "\n",
    "modified_data[\"host\"] = full_data[\"host\"].unique()\n",
    "\n",
    "for time_frame, (start, end) in time_frames.items():\n",
    "    modified_data = modified_data.merge(\n",
    "        full_data[\n",
    "            (\n",
    "                (full_data[\"visit_date_obj\"].dt.hour >= start)\n",
    "                & (full_data[\"visit_date_obj\"].dt.hour < end)\n",
    "            )\n",
    "        ]\n",
    "        .groupby(\"host\")\n",
    "        .agg({\"visit_count\": \"sum\"})\n",
    "        .rename(columns={\"visit_count\": f\"visits_{time_frame}\"})\n",
    "        .astype({f\"visits_{time_frame}\": pd.Int64Dtype()})\n",
    "        .reset_index(),\n",
    "        on=\"host\",\n",
    "        how=\"left\",\n",
    "    )\n",
    "\n",
    "modified_data = modified_data.merge(\n",
    "    full_data[\n",
    "        (\n",
    "            (full_data[\"visit_date_obj\"].dt.hour < 5)\n",
    "            | (full_data[\"visit_date_obj\"].dt.hour <= 23)\n",
    "        )\n",
    "    ]\n",
    "    .groupby(\"host\")\n",
    "    .agg({\"visit_count\": \"sum\"})\n",
    "    .rename(columns={\"visit_count\": f\"visits_night\"})\n",
    "    .astype({f\"visits_night\": pd.Int64Dtype()})\n",
    "    .reset_index(),\n",
    "    on=\"host\",\n",
    "    how=\"left\",\n",
    ")\n",
    "\n",
    "modified_data[\"total_visits\"] = modified_data[\n",
    "    [\"visits_morning\", \"visits_afternoon\", \"visits_evening\", \"visits_night\"]\n",
    "].sum(axis=1)\n",
    "\n",
    "modified_data = modified_data.fillna(0)\n",
    "\n",
    "modified_data.info()\n"
   ]
  },
  {
   "cell_type": "code",
   "execution_count": null,
   "metadata": {},
   "outputs": [
    {
     "data": {
      "text/html": [
       "<div>\n",
       "<style scoped>\n",
       "    .dataframe tbody tr th:only-of-type {\n",
       "        vertical-align: middle;\n",
       "    }\n",
       "\n",
       "    .dataframe tbody tr th {\n",
       "        vertical-align: top;\n",
       "    }\n",
       "\n",
       "    .dataframe thead th {\n",
       "        text-align: right;\n",
       "    }\n",
       "</style>\n",
       "<table border=\"1\" class=\"dataframe\">\n",
       "  <thead>\n",
       "    <tr style=\"text-align: right;\">\n",
       "      <th></th>\n",
       "      <th>host</th>\n",
       "      <th>visits_morning</th>\n",
       "      <th>visits_afternoon</th>\n",
       "      <th>visits_evening</th>\n",
       "      <th>visits_night</th>\n",
       "      <th>total_visits</th>\n",
       "    </tr>\n",
       "  </thead>\n",
       "  <tbody>\n",
       "    <tr>\n",
       "      <th>0</th>\n",
       "      <td>spins.fedoraproject.org</td>\n",
       "      <td>4</td>\n",
       "      <td>10</td>\n",
       "      <td>0</td>\n",
       "      <td>14</td>\n",
       "      <td>28</td>\n",
       "    </tr>\n",
       "    <tr>\n",
       "      <th>1</th>\n",
       "      <td>www.redhat.com</td>\n",
       "      <td>37</td>\n",
       "      <td>75</td>\n",
       "      <td>2</td>\n",
       "      <td>117</td>\n",
       "      <td>231</td>\n",
       "    </tr>\n",
       "    <tr>\n",
       "      <th>2</th>\n",
       "      <td>www.wikipedia.org</td>\n",
       "      <td>2</td>\n",
       "      <td>2</td>\n",
       "      <td>1</td>\n",
       "      <td>5</td>\n",
       "      <td>10</td>\n",
       "    </tr>\n",
       "    <tr>\n",
       "      <th>3</th>\n",
       "      <td>www.mozilla.org</td>\n",
       "      <td>3</td>\n",
       "      <td>1</td>\n",
       "      <td>0</td>\n",
       "      <td>4</td>\n",
       "      <td>8</td>\n",
       "    </tr>\n",
       "    <tr>\n",
       "      <th>4</th>\n",
       "      <td>addons.mozilla.org</td>\n",
       "      <td>57</td>\n",
       "      <td>50</td>\n",
       "      <td>25</td>\n",
       "      <td>133</td>\n",
       "      <td>265</td>\n",
       "    </tr>\n",
       "  </tbody>\n",
       "</table>\n",
       "</div>"
      ],
      "text/plain": [
       "                      host  visits_morning  visits_afternoon  visits_evening  \\\n",
       "0  spins.fedoraproject.org               4                10               0   \n",
       "1           www.redhat.com              37                75               2   \n",
       "2        www.wikipedia.org               2                 2               1   \n",
       "3          www.mozilla.org               3                 1               0   \n",
       "4       addons.mozilla.org              57                50              25   \n",
       "\n",
       "   visits_night  total_visits  \n",
       "0            14            28  \n",
       "1           117           231  \n",
       "2             5            10  \n",
       "3             4             8  \n",
       "4           133           265  "
      ]
     },
     "execution_count": 14,
     "metadata": {},
     "output_type": "execute_result"
    }
   ],
   "source": [
    "modified_data.head()\n"
   ]
  },
  {
   "cell_type": "code",
   "execution_count": null,
   "metadata": {},
   "outputs": [
    {
     "name": "stdout",
     "output_type": "stream",
     "text": [
      "<class 'pandas.core.frame.DataFrame'>\n",
      "RangeIndex: 60 entries, 0 to 59\n",
      "Data columns (total 4 columns):\n",
      " #   Column           Non-Null Count  Dtype \n",
      "---  ------           --------------  ----- \n",
      " 0   host             60 non-null     object\n",
      " 1   total_visits     60 non-null     int64 \n",
      " 2   visit_TOD        60 non-null     object\n",
      " 3   visit_count_TOD  60 non-null     Int64 \n",
      "dtypes: Int64(1), int64(1), object(2)\n",
      "memory usage: 2.1+ KB\n"
     ]
    }
   ],
   "source": [
    "selected_data = modified_data.sort_values(by=\"total_visits\", ascending=False).iloc[:15]\n",
    "\n",
    "# 'host',\t'host_frecency',\t'total_visits',\t'visits_morning',\t'visits_afternoon',\t'visits_evening',\t'visits_night'\n",
    "\n",
    "# Melt the dataset to combine \"visits_morning,\" \"visits_afternoon,\" etc. into a \"time\" column\n",
    "selected_data = selected_data.melt(\n",
    "    id_vars=[\"host\", \"total_visits\"],\n",
    "    value_vars=[\"visits_morning\", \"visits_afternoon\", \"visits_evening\", \"visits_night\"],\n",
    "    var_name=\"visit_TOD\",\n",
    "    value_name=\"visit_count_TOD\",\n",
    ")\n",
    "\n",
    "selected_data.info()\n"
   ]
  },
  {
   "cell_type": "code",
   "execution_count": null,
   "metadata": {},
   "outputs": [
    {
     "name": "stderr",
     "output_type": "stream",
     "text": [
      "/home/ubuntu/FDS/.venv/lib/python3.10/site-packages/seaborn/axisgrid.py:123: UserWarning: The figure layout has changed to tight\n",
      "  self._figure.tight_layout(*args, **kwargs)\n"
     ]
    },
    {
     "data": {
      "image/png": "[encoded data removed]",
      "text/plain": [
       "<Figure size 1105.13x900 with 1 Axes>"
      ]
     },
     "metadata": {},
     "output_type": "display_data"
    }
   ],
   "source": [
    "ax = sns.relplot(\n",
    "    x=\"visit_count_TOD\",\n",
    "    y=\"host\",\n",
    "    data=selected_data.sort_values(by=\"total_visits\", ascending=False),\n",
    "    hue=\"visit_TOD\",\n",
    "    size=\"total_visits\",\n",
    "    height=9,\n",
    "    aspect=1.05,\n",
    "    legend=\"brief\",\n",
    ")\n",
    "\n",
    "# ax.set_xticklabels(rotation=90, ha=\"right\", fontsize=8.5, y=1)\n",
    "\n",
    "plt.show()\n"
   ]
  },
  {
   "cell_type": "code",
   "execution_count": null,
   "metadata": {},
   "outputs": [],
   "source": []
  }
 ],
 "metadata": {
  "kernelspec": {
   "display_name": ".venv",
   "language": "python",
   "name": "python3"
  },
  "language_info": {
   "codemirror_mode": {
    "name": "ipython",
    "version": 3
   },
   "file_extension": ".py",
   "mimetype": "text/x-python",
   "name": "python",
   "nbconvert_exporter": "python",
   "pygments_lexer": "ipython3",
   "version": "3.10.12"
  }
 },
 "nbformat": 4,
 "nbformat_minor": 2
}
